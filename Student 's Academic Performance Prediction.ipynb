{
 "cells": [
  {
   "cell_type": "markdown",
   "id": "343ca594",
   "metadata": {},
   "source": [
    "# Class Performance Prediction"
   ]
  },
  {
   "cell_type": "markdown",
   "id": "9a17c36f",
   "metadata": {},
   "source": [
    "**Problem Description:**"
   ]
  },
  {
   "cell_type": "markdown",
   "id": "98d499df",
   "metadata": {},
   "source": [
    "This is an educational data set which is collected from learning management system (LMS) called Kalboard 360. Kalboard 360 is a multi-agent LMS, which has been designed to facilitate learning through the use of leading-edge technology. Such system provides users with a synchronous access to educational resources from any device with Internet connection.\n",
    "\n",
    "The data is collected using a learner activity tracker tool, which called experience API (xAPI). The xAPI is a component of the training and learning architecture (TLA) that enables to monitor learning progress and learner’s actions like reading an article or watching a training video. The experience API helps the learning activity providers to determine the learner, activity and objects that describe a learning experience.\n",
    "The dataset consists of 480 student records and 16 features. The features are classified into three major categories: (1) Demographic features such as gender and nationality. (2) Academic background features such as educational stage, grade Level and section. (3) Behavioral features such as raised hand on class, opening resources, answering survey by parents, and school satisfaction.\n",
    "\n",
    "The dataset consists of 305 males and 175 females. The students come from different origins such as 179 students are from Kuwait, 172 students are from Jordan, 28 students from Palestine, 22 students are from Iraq, 17 students from Lebanon, 12 students from Tunis, 11 students from Saudi Arabia, 9 students from Egypt, 7 students from Syria, 6 students from USA, Iran and Libya, 4 students from Morocco and one student from Venezuela.\n",
    "\n",
    "The dataset is collected through two educational semesters: 245 student records are collected during the first semester and 235 student records are collected during the second semester.\n",
    "\n",
    "The data set includes also the school attendance feature such as the students are classified into two categories based on their absence days: 191 students exceed 7 absence days and 289 students their absence days under 7.\n",
    "\n",
    "This dataset includes also a new category of features; this feature is parent parturition in the educational process. Parent participation feature have two sub features: Parent Answering Survey and Parent School Satisfaction. There are 270 of the parents answered survey and 210 are not, 292 of the parents are satisfied from the school and 188 are not.\n",
    "\n",
    "**Source:** https://www.kaggle.com/aljarah/xAPI-Edu-Data"
   ]
  },
  {
   "cell_type": "markdown",
   "id": "f9b1e8ff",
   "metadata": {},
   "source": [
    "**Attributes Description:**"
   ]
  },
  {
   "cell_type": "markdown",
   "id": "9b9f06ee",
   "metadata": {},
   "source": [
    "1 Gender - student's gender (nominal: 'Male' or 'Female’)\n",
    "\n",
    "2 Nationality- student's nationality (nominal:’ Kuwait’,’ Lebanon’,’ Egypt’,’ SaudiArabia’,’ USA’,’ Jordan’,’\n",
    "Venezuela’,’ Iran’,’ Tunis’,’ Morocco’,’ Syria’,’ Palestine’,’ Iraq’,’ Lybia’)\n",
    "\n",
    "3 Place of birth- student's Place of birth (nominal:’ Kuwait’,’ Lebanon’,’ Egypt’,’ SaudiArabia’,’ USA’,’ Jordan’,’\n",
    "Venezuela’,’ Iran’,’ Tunis’,’ Morocco’,’ Syria’,’ Palestine’,’ Iraq’,’ Lybia’)\n",
    "\n",
    "4 Educational Stages- educational level student belongs (nominal: ‘lowerlevel’,’MiddleSchool’,’HighSchool’)\n",
    "\n",
    "5 Grade Levels- grade student belongs (nominal: ‘G-01’, ‘G-02’, ‘G-03’, ‘G-04’, ‘G-05’, ‘G-06’, ‘G-07’, ‘G-08’, ‘G-09’, ‘G-10’, ‘G-11’, ‘G-12 ‘)\n",
    "\n",
    "6 Section ID- classroom student belongs (nominal:’A’,’B’,’C’)\n",
    "\n",
    "7 Topic- course topic (nominal:’ English’,’ Spanish’, ‘French’,’ Arabic’,’ IT’,’ Math’,’ Chemistry’, ‘Biology’, ‘Science’,’ History’,’ Quran’,’ Geology’)\n",
    "\n",
    "8 Semester- school year semester (nominal:’ First’,’ Second’)\n",
    "\n",
    "9 Parent responsible for student (nominal:’mom’,’father’)\n",
    "\n",
    "10 Raised hand- how many times the student raises his/her hand on classroom (numeric:0-100)\n",
    "\n",
    "11- Visited resources- how many times the student visits a course content(numeric:0-100)\n",
    "\n",
    "12 Viewing announcements-how many times the student checks the new announcements(numeric:0-100)\n",
    "\n",
    "13 Discussion groups- how many times the student participate on discussion groups (numeric:0-100)\n",
    "\n",
    "14 Parent Answering Survey- parent answered the surveys which are provided from school or not\n",
    "(nominal:’Yes’,’No’)\n",
    "\n",
    "15 Parent School Satisfaction- the Degree of parent satisfaction from school(nominal:’Yes’,’No’)\n",
    "\n",
    "16 Student Absence Days-the number of absence days for each student (nominal: above-7, under-7)"
   ]
  },
  {
   "cell_type": "markdown",
   "id": "22da621d",
   "metadata": {},
   "source": [
    "The students are classified into three numerical intervals based on their total grade/mark:\n",
    "\n",
    "Low-Level (L): interval includes values from 0 to 69,\n",
    "\n",
    "Middle-Level (M): interval includes values from 70 to 89,\n",
    "\n",
    "High-Level (H): interval includes values from 90-100."
   ]
  },
  {
   "cell_type": "code",
   "execution_count": 1,
   "id": "5268bd2b",
   "metadata": {},
   "outputs": [],
   "source": [
    "# Import Libraries \n",
    "import pandas as pd\n",
    "import numpy as np\n",
    "import seaborn as sns\n",
    "import matplotlib.pyplot as plt\n",
    "\n",
    "import warnings\n",
    "warnings.filterwarnings('ignore')"
   ]
  },
  {
   "cell_type": "code",
   "execution_count": 2,
   "id": "23cfaebb",
   "metadata": {},
   "outputs": [
    {
     "data": {
      "text/html": [
       "<div>\n",
       "<style scoped>\n",
       "    .dataframe tbody tr th:only-of-type {\n",
       "        vertical-align: middle;\n",
       "    }\n",
       "\n",
       "    .dataframe tbody tr th {\n",
       "        vertical-align: top;\n",
       "    }\n",
       "\n",
       "    .dataframe thead th {\n",
       "        text-align: right;\n",
       "    }\n",
       "</style>\n",
       "<table border=\"1\" class=\"dataframe\">\n",
       "  <thead>\n",
       "    <tr style=\"text-align: right;\">\n",
       "      <th></th>\n",
       "      <th>gender</th>\n",
       "      <th>NationalITy</th>\n",
       "      <th>PlaceofBirth</th>\n",
       "      <th>StageID</th>\n",
       "      <th>GradeID</th>\n",
       "      <th>SectionID</th>\n",
       "      <th>Topic</th>\n",
       "      <th>Semester</th>\n",
       "      <th>Relation</th>\n",
       "      <th>raisedhands</th>\n",
       "      <th>VisITedResources</th>\n",
       "      <th>AnnouncementsView</th>\n",
       "      <th>Discussion</th>\n",
       "      <th>ParentAnsweringSurvey</th>\n",
       "      <th>ParentschoolSatisfaction</th>\n",
       "      <th>StudentAbsenceDays</th>\n",
       "      <th>Class</th>\n",
       "    </tr>\n",
       "  </thead>\n",
       "  <tbody>\n",
       "    <tr>\n",
       "      <th>0</th>\n",
       "      <td>M</td>\n",
       "      <td>KW</td>\n",
       "      <td>KuwaIT</td>\n",
       "      <td>lowerlevel</td>\n",
       "      <td>G-04</td>\n",
       "      <td>A</td>\n",
       "      <td>IT</td>\n",
       "      <td>F</td>\n",
       "      <td>Father</td>\n",
       "      <td>15</td>\n",
       "      <td>16</td>\n",
       "      <td>2</td>\n",
       "      <td>20</td>\n",
       "      <td>Yes</td>\n",
       "      <td>Good</td>\n",
       "      <td>Under-7</td>\n",
       "      <td>M</td>\n",
       "    </tr>\n",
       "    <tr>\n",
       "      <th>1</th>\n",
       "      <td>M</td>\n",
       "      <td>KW</td>\n",
       "      <td>KuwaIT</td>\n",
       "      <td>lowerlevel</td>\n",
       "      <td>G-04</td>\n",
       "      <td>A</td>\n",
       "      <td>IT</td>\n",
       "      <td>F</td>\n",
       "      <td>Father</td>\n",
       "      <td>20</td>\n",
       "      <td>20</td>\n",
       "      <td>3</td>\n",
       "      <td>25</td>\n",
       "      <td>Yes</td>\n",
       "      <td>Good</td>\n",
       "      <td>Under-7</td>\n",
       "      <td>M</td>\n",
       "    </tr>\n",
       "    <tr>\n",
       "      <th>2</th>\n",
       "      <td>M</td>\n",
       "      <td>KW</td>\n",
       "      <td>KuwaIT</td>\n",
       "      <td>lowerlevel</td>\n",
       "      <td>G-04</td>\n",
       "      <td>A</td>\n",
       "      <td>IT</td>\n",
       "      <td>F</td>\n",
       "      <td>Father</td>\n",
       "      <td>10</td>\n",
       "      <td>7</td>\n",
       "      <td>0</td>\n",
       "      <td>30</td>\n",
       "      <td>No</td>\n",
       "      <td>Bad</td>\n",
       "      <td>Above-7</td>\n",
       "      <td>L</td>\n",
       "    </tr>\n",
       "    <tr>\n",
       "      <th>3</th>\n",
       "      <td>M</td>\n",
       "      <td>KW</td>\n",
       "      <td>KuwaIT</td>\n",
       "      <td>lowerlevel</td>\n",
       "      <td>G-04</td>\n",
       "      <td>A</td>\n",
       "      <td>IT</td>\n",
       "      <td>F</td>\n",
       "      <td>Father</td>\n",
       "      <td>30</td>\n",
       "      <td>25</td>\n",
       "      <td>5</td>\n",
       "      <td>35</td>\n",
       "      <td>No</td>\n",
       "      <td>Bad</td>\n",
       "      <td>Above-7</td>\n",
       "      <td>L</td>\n",
       "    </tr>\n",
       "    <tr>\n",
       "      <th>4</th>\n",
       "      <td>M</td>\n",
       "      <td>KW</td>\n",
       "      <td>KuwaIT</td>\n",
       "      <td>lowerlevel</td>\n",
       "      <td>G-04</td>\n",
       "      <td>A</td>\n",
       "      <td>IT</td>\n",
       "      <td>F</td>\n",
       "      <td>Father</td>\n",
       "      <td>40</td>\n",
       "      <td>50</td>\n",
       "      <td>12</td>\n",
       "      <td>50</td>\n",
       "      <td>No</td>\n",
       "      <td>Bad</td>\n",
       "      <td>Above-7</td>\n",
       "      <td>M</td>\n",
       "    </tr>\n",
       "  </tbody>\n",
       "</table>\n",
       "</div>"
      ],
      "text/plain": [
       "  gender NationalITy PlaceofBirth     StageID GradeID SectionID Topic  \\\n",
       "0      M          KW       KuwaIT  lowerlevel    G-04         A    IT   \n",
       "1      M          KW       KuwaIT  lowerlevel    G-04         A    IT   \n",
       "2      M          KW       KuwaIT  lowerlevel    G-04         A    IT   \n",
       "3      M          KW       KuwaIT  lowerlevel    G-04         A    IT   \n",
       "4      M          KW       KuwaIT  lowerlevel    G-04         A    IT   \n",
       "\n",
       "  Semester Relation  raisedhands  VisITedResources  AnnouncementsView  \\\n",
       "0        F   Father           15                16                  2   \n",
       "1        F   Father           20                20                  3   \n",
       "2        F   Father           10                 7                  0   \n",
       "3        F   Father           30                25                  5   \n",
       "4        F   Father           40                50                 12   \n",
       "\n",
       "   Discussion ParentAnsweringSurvey ParentschoolSatisfaction  \\\n",
       "0          20                   Yes                     Good   \n",
       "1          25                   Yes                     Good   \n",
       "2          30                    No                      Bad   \n",
       "3          35                    No                      Bad   \n",
       "4          50                    No                      Bad   \n",
       "\n",
       "  StudentAbsenceDays Class  \n",
       "0            Under-7     M  \n",
       "1            Under-7     M  \n",
       "2            Above-7     L  \n",
       "3            Above-7     L  \n",
       "4            Above-7     M  "
      ]
     },
     "execution_count": 2,
     "metadata": {},
     "output_type": "execute_result"
    }
   ],
   "source": [
    "# Read the dataset\n",
    "df1 = pd.read_csv('performance.csv')\n",
    "df1.head()"
   ]
  },
  {
   "cell_type": "code",
   "execution_count": 3,
   "id": "a91dee02",
   "metadata": {},
   "outputs": [
    {
     "data": {
      "text/plain": [
       "(480, 17)"
      ]
     },
     "execution_count": 3,
     "metadata": {},
     "output_type": "execute_result"
    }
   ],
   "source": [
    "# Shape of DataSet\n",
    "df1.shape"
   ]
  },
  {
   "cell_type": "markdown",
   "id": "a68987ac",
   "metadata": {},
   "source": [
    "##  1. EDA"
   ]
  },
  {
   "cell_type": "code",
   "execution_count": 4,
   "id": "a32f4cf7",
   "metadata": {},
   "outputs": [
    {
     "name": "stdout",
     "output_type": "stream",
     "text": [
      "<class 'pandas.core.frame.DataFrame'>\n",
      "RangeIndex: 480 entries, 0 to 479\n",
      "Data columns (total 17 columns):\n",
      " #   Column                    Non-Null Count  Dtype \n",
      "---  ------                    --------------  ----- \n",
      " 0   gender                    480 non-null    object\n",
      " 1   NationalITy               480 non-null    object\n",
      " 2   PlaceofBirth              480 non-null    object\n",
      " 3   StageID                   480 non-null    object\n",
      " 4   GradeID                   480 non-null    object\n",
      " 5   SectionID                 480 non-null    object\n",
      " 6   Topic                     480 non-null    object\n",
      " 7   Semester                  480 non-null    object\n",
      " 8   Relation                  480 non-null    object\n",
      " 9   raisedhands               480 non-null    int64 \n",
      " 10  VisITedResources          480 non-null    int64 \n",
      " 11  AnnouncementsView         480 non-null    int64 \n",
      " 12  Discussion                480 non-null    int64 \n",
      " 13  ParentAnsweringSurvey     480 non-null    object\n",
      " 14  ParentschoolSatisfaction  480 non-null    object\n",
      " 15  StudentAbsenceDays        480 non-null    object\n",
      " 16  Class                     480 non-null    object\n",
      "dtypes: int64(4), object(13)\n",
      "memory usage: 63.9+ KB\n"
     ]
    }
   ],
   "source": [
    "# Informational summary\n",
    "df1.info()"
   ]
  },
  {
   "cell_type": "code",
   "execution_count": 5,
   "id": "ca34b4b7",
   "metadata": {},
   "outputs": [
    {
     "name": "stdout",
     "output_type": "stream",
     "text": [
      "Numerical columns:  4\n",
      "Categorical columns:  13\n"
     ]
    }
   ],
   "source": [
    "# Number of categorical and numerical columns\n",
    "\n",
    "print('Numerical columns: ',df1.select_dtypes(np.number).shape[1])\n",
    "print('Categorical columns: ',df1.select_dtypes(object).shape[1])"
   ]
  },
  {
   "cell_type": "code",
   "execution_count": 6,
   "id": "43a034cc",
   "metadata": {},
   "outputs": [
    {
     "data": {
      "text/html": [
       "<div>\n",
       "<style scoped>\n",
       "    .dataframe tbody tr th:only-of-type {\n",
       "        vertical-align: middle;\n",
       "    }\n",
       "\n",
       "    .dataframe tbody tr th {\n",
       "        vertical-align: top;\n",
       "    }\n",
       "\n",
       "    .dataframe thead th {\n",
       "        text-align: right;\n",
       "    }\n",
       "</style>\n",
       "<table border=\"1\" class=\"dataframe\">\n",
       "  <thead>\n",
       "    <tr style=\"text-align: right;\">\n",
       "      <th></th>\n",
       "      <th>raisedhands</th>\n",
       "      <th>VisITedResources</th>\n",
       "      <th>AnnouncementsView</th>\n",
       "      <th>Discussion</th>\n",
       "    </tr>\n",
       "  </thead>\n",
       "  <tbody>\n",
       "    <tr>\n",
       "      <th>count</th>\n",
       "      <td>480.000000</td>\n",
       "      <td>480.000000</td>\n",
       "      <td>480.000000</td>\n",
       "      <td>480.000000</td>\n",
       "    </tr>\n",
       "    <tr>\n",
       "      <th>mean</th>\n",
       "      <td>46.775000</td>\n",
       "      <td>54.797917</td>\n",
       "      <td>37.918750</td>\n",
       "      <td>43.283333</td>\n",
       "    </tr>\n",
       "    <tr>\n",
       "      <th>std</th>\n",
       "      <td>30.779223</td>\n",
       "      <td>33.080007</td>\n",
       "      <td>26.611244</td>\n",
       "      <td>27.637735</td>\n",
       "    </tr>\n",
       "    <tr>\n",
       "      <th>min</th>\n",
       "      <td>0.000000</td>\n",
       "      <td>0.000000</td>\n",
       "      <td>0.000000</td>\n",
       "      <td>1.000000</td>\n",
       "    </tr>\n",
       "    <tr>\n",
       "      <th>25%</th>\n",
       "      <td>15.750000</td>\n",
       "      <td>20.000000</td>\n",
       "      <td>14.000000</td>\n",
       "      <td>20.000000</td>\n",
       "    </tr>\n",
       "    <tr>\n",
       "      <th>50%</th>\n",
       "      <td>50.000000</td>\n",
       "      <td>65.000000</td>\n",
       "      <td>33.000000</td>\n",
       "      <td>39.000000</td>\n",
       "    </tr>\n",
       "    <tr>\n",
       "      <th>75%</th>\n",
       "      <td>75.000000</td>\n",
       "      <td>84.000000</td>\n",
       "      <td>58.000000</td>\n",
       "      <td>70.000000</td>\n",
       "    </tr>\n",
       "    <tr>\n",
       "      <th>max</th>\n",
       "      <td>100.000000</td>\n",
       "      <td>99.000000</td>\n",
       "      <td>98.000000</td>\n",
       "      <td>99.000000</td>\n",
       "    </tr>\n",
       "  </tbody>\n",
       "</table>\n",
       "</div>"
      ],
      "text/plain": [
       "       raisedhands  VisITedResources  AnnouncementsView  Discussion\n",
       "count   480.000000        480.000000         480.000000  480.000000\n",
       "mean     46.775000         54.797917          37.918750   43.283333\n",
       "std      30.779223         33.080007          26.611244   27.637735\n",
       "min       0.000000          0.000000           0.000000    1.000000\n",
       "25%      15.750000         20.000000          14.000000   20.000000\n",
       "50%      50.000000         65.000000          33.000000   39.000000\n",
       "75%      75.000000         84.000000          58.000000   70.000000\n",
       "max     100.000000         99.000000          98.000000   99.000000"
      ]
     },
     "execution_count": 6,
     "metadata": {},
     "output_type": "execute_result"
    }
   ],
   "source": [
    "# 5 point summary of numerical features\n",
    "df1.describe()"
   ]
  },
  {
   "cell_type": "code",
   "execution_count": 7,
   "id": "86a39a0e",
   "metadata": {},
   "outputs": [
    {
     "data": {
      "text/plain": [
       "<AxesSubplot:>"
      ]
     },
     "execution_count": 7,
     "metadata": {},
     "output_type": "execute_result"
    },
    {
     "data": {
      "image/png": "[encoded data removed]",
      "text/plain": [
       "<Figure size 432x288 with 2 Axes>"
      ]
     },
     "metadata": {
      "needs_background": "light"
     },
     "output_type": "display_data"
    }
   ],
   "source": [
    "# Checking for Nulls -- NO NULLS ARE PRESENT\n",
    "sns.heatmap(df1.isnull(),xticklabels=False)"
   ]
  },
  {
   "cell_type": "code",
   "execution_count": 8,
   "id": "7b527dcb",
   "metadata": {},
   "outputs": [
    {
     "data": {
      "text/plain": [
       "<AxesSubplot:>"
      ]
     },
     "execution_count": 8,
     "metadata": {},
     "output_type": "execute_result"
    },
    {
     "data": {
      "image/png": "[encoded data removed]",
      "text/plain": [
       "<Figure size 576x288 with 1 Axes>"
      ]
     },
     "metadata": {
      "needs_background": "light"
     },
     "output_type": "display_data"
    }
   ],
   "source": [
    "# Outliers -- OUTLIERS ARE NOT PRESENT\n",
    "plt.figure(figsize=(8,4))\n",
    "df1.boxplot()"
   ]
  },
  {
   "cell_type": "code",
   "execution_count": 9,
   "id": "b63be805",
   "metadata": {},
   "outputs": [
    {
     "data": {
      "text/plain": [
       "<AxesSubplot:xlabel='gender', ylabel='count'>"
      ]
     },
     "execution_count": 9,
     "metadata": {},
     "output_type": "execute_result"
    },
    {
     "data": {
      "image/png": "[encoded data removed]",
      "text/plain": [
       "<Figure size 432x288 with 1 Axes>"
      ]
     },
     "metadata": {
      "needs_background": "light"
     },
     "output_type": "display_data"
    }
   ],
   "source": [
    "# Comparing the performance of male and female students\n",
    "sns.countplot(df1['gender'], hue = df1['Class'])"
   ]
  },
  {
   "cell_type": "markdown",
   "id": "1b04b116",
   "metadata": {},
   "source": [
    "**Inference:**\n",
    "1. Number of male and female students with High Performance (H) are equal.\n",
    "2. Only few female students shows Low Performance (L).\n",
    "3. Number of Average performing (M) students in males are highest across all the categories. "
   ]
  },
  {
   "cell_type": "code",
   "execution_count": 10,
   "id": "93ffc7e2",
   "metadata": {},
   "outputs": [
    {
     "data": {
      "text/plain": [
       "<AxesSubplot:xlabel='NationalITy', ylabel='count'>"
      ]
     },
     "execution_count": 10,
     "metadata": {},
     "output_type": "execute_result"
    },
    {
     "data": {
      "image/png": "[encoded data removed]",
      "text/plain": [
       "<Figure size 1080x432 with 1 Axes>"
      ]
     },
     "metadata": {
      "needs_background": "light"
     },
     "output_type": "display_data"
    }
   ],
   "source": [
    "# Countplot of Nationality\n",
    "plt.figure(figsize=(15,6))\n",
    "sns.countplot(df1['NationalITy'])"
   ]
  },
  {
   "cell_type": "markdown",
   "id": "bb44e787",
   "metadata": {},
   "source": [
    "**Inference:**\n",
    "1. Dataset contains highest number of students from KW and Jordan.\n",
    "2. Venzuela students are least in numbers."
   ]
  },
  {
   "cell_type": "code",
   "execution_count": 11,
   "id": "5aae4bb7",
   "metadata": {},
   "outputs": [
    {
     "data": {
      "text/plain": [
       "<AxesSubplot:xlabel='NationalITy', ylabel='count'>"
      ]
     },
     "execution_count": 11,
     "metadata": {},
     "output_type": "execute_result"
    },
    {
     "data": {
      "image/png": "[encoded data removed]",
      "text/plain": [
       "<Figure size 1080x432 with 1 Axes>"
      ]
     },
     "metadata": {
      "needs_background": "light"
     },
     "output_type": "display_data"
    }
   ],
   "source": [
    "# Comparing the performance of diffrent nationality\n",
    "plt.figure(figsize=(15,6))\n",
    "sns.countplot(df1['NationalITy'],hue= df1['Class'])"
   ]
  },
  {
   "cell_type": "markdown",
   "id": "35a6532e",
   "metadata": {},
   "source": [
    "**Inference:**\n",
    "1. All students from Venzuela are High performing students.\n",
    "2. All students from Lybia are Low performing students."
   ]
  },
  {
   "cell_type": "code",
   "execution_count": 12,
   "id": "afe7d6d4",
   "metadata": {},
   "outputs": [
    {
     "data": {
      "text/plain": [
       "<AxesSubplot:xlabel='GradeID', ylabel='count'>"
      ]
     },
     "execution_count": 12,
     "metadata": {},
     "output_type": "execute_result"
    },
    {
     "data": {
      "image/png": "[encoded data removed]",
      "text/plain": [
       "<Figure size 1080x432 with 1 Axes>"
      ]
     },
     "metadata": {
      "needs_background": "light"
     },
     "output_type": "display_data"
    }
   ],
   "source": [
    "# Comparing the performance of different grade\n",
    "plt.figure(figsize=(15,6))\n",
    "sns.countplot(df1['GradeID'],hue= df1['Class'])"
   ]
  },
  {
   "cell_type": "markdown",
   "id": "9c0fb431",
   "metadata": {},
   "source": [
    "**Inference:**\n",
    "1. All students from G-05 are low performing students.\n",
    "2. G-09 have no high performing students.\n",
    "3. G-02 have high sum of low and average performing students meaning a lot of G-02 studnets are struggling in studies.\n",
    "4. G-08 have highest averge performing students."
   ]
  },
  {
   "cell_type": "code",
   "execution_count": 13,
   "id": "30e0e7b0",
   "metadata": {},
   "outputs": [
    {
     "data": {
      "text/plain": [
       "<AxesSubplot:xlabel='Topic', ylabel='count'>"
      ]
     },
     "execution_count": 13,
     "metadata": {},
     "output_type": "execute_result"
    },
    {
     "data": {
      "image/png": "[encoded data removed]",
      "text/plain": [
       "<Figure size 1080x432 with 1 Axes>"
      ]
     },
     "metadata": {
      "needs_background": "light"
     },
     "output_type": "display_data"
    }
   ],
   "source": [
    "# Countplot of Subject studied by students\n",
    "plt.figure(figsize=(15,6))\n",
    "sns.countplot(df1['Topic'])"
   ]
  },
  {
   "cell_type": "markdown",
   "id": "9626e900",
   "metadata": {},
   "source": [
    "**Inference:**\n",
    "1. Most of students are studying IT.\n",
    "2. French is second most prefered studnets with Arabic, Science and English being close 3,4,5 respectively."
   ]
  },
  {
   "cell_type": "code",
   "execution_count": 14,
   "id": "23a4e086",
   "metadata": {},
   "outputs": [
    {
     "data": {
      "text/plain": [
       "<AxesSubplot:xlabel='Topic', ylabel='count'>"
      ]
     },
     "execution_count": 14,
     "metadata": {},
     "output_type": "execute_result"
    },
    {
     "data": {
      "image/png": "[encoded data removed]",
      "text/plain": [
       "<Figure size 1080x432 with 1 Axes>"
      ]
     },
     "metadata": {
      "needs_background": "light"
     },
     "output_type": "display_data"
    }
   ],
   "source": [
    "# Comparing the performance of different subject\n",
    "plt.figure(figsize=(15,6))\n",
    "sns.countplot(df1['Topic'],hue= df1['Class'])"
   ]
  },
  {
   "cell_type": "markdown",
   "id": "04225496",
   "metadata": {},
   "source": [
    "**Inference:**\n",
    "1. No student is performing low on Geology.\n",
    "2. Since we have highest number of students in IT hence it contains highest number of students performing low and averge."
   ]
  },
  {
   "cell_type": "code",
   "execution_count": 15,
   "id": "411692e9",
   "metadata": {},
   "outputs": [
    {
     "data": {
      "text/plain": [
       "<AxesSubplot:xlabel='Semester', ylabel='count'>"
      ]
     },
     "execution_count": 15,
     "metadata": {},
     "output_type": "execute_result"
    },
    {
     "data": {
      "image/png": "[encoded data removed]",
      "text/plain": [
       "<Figure size 432x288 with 1 Axes>"
      ]
     },
     "metadata": {
      "needs_background": "light"
     },
     "output_type": "display_data"
    }
   ],
   "source": [
    "# Count plot of Semesters\n",
    "sns.countplot(df1['Semester'])"
   ]
  },
  {
   "cell_type": "markdown",
   "id": "06da8566",
   "metadata": {},
   "source": [
    "**Inference:**\n",
    "* We have equal number of students in First and Second semester."
   ]
  },
  {
   "cell_type": "code",
   "execution_count": 16,
   "id": "e0211ac9",
   "metadata": {},
   "outputs": [
    {
     "data": {
      "text/plain": [
       "<AxesSubplot:xlabel='Semester', ylabel='count'>"
      ]
     },
     "execution_count": 16,
     "metadata": {},
     "output_type": "execute_result"
    },
    {
     "data": {
      "image/png": "[encoded data removed]",
      "text/plain": [
       "<Figure size 432x288 with 1 Axes>"
      ]
     },
     "metadata": {
      "needs_background": "light"
     },
     "output_type": "display_data"
    }
   ],
   "source": [
    "# Comparing the performance with different semesters\n",
    "sns.countplot(df1['Semester'],hue=df1['Class'])"
   ]
  },
  {
   "cell_type": "markdown",
   "id": "105076fb",
   "metadata": {},
   "source": [
    "**Inference:**\n",
    "1. Number of students performing Low in second semester decreased and high performing increased indicating that second semester studends are performing better than first."
   ]
  },
  {
   "cell_type": "code",
   "execution_count": 17,
   "id": "27c9b2a1",
   "metadata": {},
   "outputs": [
    {
     "data": {
      "text/plain": [
       "<AxesSubplot:xlabel='Relation', ylabel='count'>"
      ]
     },
     "execution_count": 17,
     "metadata": {},
     "output_type": "execute_result"
    },
    {
     "data": {
      "image/png": "[encoded data removed]",
      "text/plain": [
       "<Figure size 432x288 with 1 Axes>"
      ]
     },
     "metadata": {
      "needs_background": "light"
     },
     "output_type": "display_data"
    }
   ],
   "source": [
    "# Comparing the performance with different semesters\n",
    "sns.countplot(df1['Relation'],hue=df1['Class'])"
   ]
  },
  {
   "cell_type": "markdown",
   "id": "dad16cc1",
   "metadata": {},
   "source": [
    "**Inference:**\n",
    "1. Students whose mothers are resposible for studies are performing better.  "
   ]
  },
  {
   "cell_type": "markdown",
   "id": "499f34d3",
   "metadata": {},
   "source": [
    "## 2. Data Prepration"
   ]
  },
  {
   "cell_type": "markdown",
   "id": "dee4599f",
   "metadata": {},
   "source": [
    "1. Preparing data for model building.\n",
    "2. Irrelevant features for model building will be dropped.\n",
    "3. Numerical columns will be scaled\n",
    "4. Categorical columns will be dummy encoded."
   ]
  },
  {
   "cell_type": "code",
   "execution_count": 18,
   "id": "8b8f8fd0",
   "metadata": {},
   "outputs": [
    {
     "data": {
      "text/html": [
       "<div>\n",
       "<style scoped>\n",
       "    .dataframe tbody tr th:only-of-type {\n",
       "        vertical-align: middle;\n",
       "    }\n",
       "\n",
       "    .dataframe tbody tr th {\n",
       "        vertical-align: top;\n",
       "    }\n",
       "\n",
       "    .dataframe thead th {\n",
       "        text-align: right;\n",
       "    }\n",
       "</style>\n",
       "<table border=\"1\" class=\"dataframe\">\n",
       "  <thead>\n",
       "    <tr style=\"text-align: right;\">\n",
       "      <th></th>\n",
       "      <th>gender</th>\n",
       "      <th>NationalITy</th>\n",
       "      <th>PlaceofBirth</th>\n",
       "      <th>StageID</th>\n",
       "      <th>GradeID</th>\n",
       "      <th>SectionID</th>\n",
       "      <th>Topic</th>\n",
       "      <th>Semester</th>\n",
       "      <th>Relation</th>\n",
       "      <th>raisedhands</th>\n",
       "      <th>VisITedResources</th>\n",
       "      <th>AnnouncementsView</th>\n",
       "      <th>Discussion</th>\n",
       "      <th>ParentAnsweringSurvey</th>\n",
       "      <th>ParentschoolSatisfaction</th>\n",
       "      <th>StudentAbsenceDays</th>\n",
       "      <th>Class</th>\n",
       "    </tr>\n",
       "  </thead>\n",
       "  <tbody>\n",
       "    <tr>\n",
       "      <th>0</th>\n",
       "      <td>M</td>\n",
       "      <td>KW</td>\n",
       "      <td>KuwaIT</td>\n",
       "      <td>lowerlevel</td>\n",
       "      <td>G-04</td>\n",
       "      <td>A</td>\n",
       "      <td>IT</td>\n",
       "      <td>F</td>\n",
       "      <td>Father</td>\n",
       "      <td>15</td>\n",
       "      <td>16</td>\n",
       "      <td>2</td>\n",
       "      <td>20</td>\n",
       "      <td>Yes</td>\n",
       "      <td>Good</td>\n",
       "      <td>Under-7</td>\n",
       "      <td>M</td>\n",
       "    </tr>\n",
       "    <tr>\n",
       "      <th>1</th>\n",
       "      <td>M</td>\n",
       "      <td>KW</td>\n",
       "      <td>KuwaIT</td>\n",
       "      <td>lowerlevel</td>\n",
       "      <td>G-04</td>\n",
       "      <td>A</td>\n",
       "      <td>IT</td>\n",
       "      <td>F</td>\n",
       "      <td>Father</td>\n",
       "      <td>20</td>\n",
       "      <td>20</td>\n",
       "      <td>3</td>\n",
       "      <td>25</td>\n",
       "      <td>Yes</td>\n",
       "      <td>Good</td>\n",
       "      <td>Under-7</td>\n",
       "      <td>M</td>\n",
       "    </tr>\n",
       "    <tr>\n",
       "      <th>2</th>\n",
       "      <td>M</td>\n",
       "      <td>KW</td>\n",
       "      <td>KuwaIT</td>\n",
       "      <td>lowerlevel</td>\n",
       "      <td>G-04</td>\n",
       "      <td>A</td>\n",
       "      <td>IT</td>\n",
       "      <td>F</td>\n",
       "      <td>Father</td>\n",
       "      <td>10</td>\n",
       "      <td>7</td>\n",
       "      <td>0</td>\n",
       "      <td>30</td>\n",
       "      <td>No</td>\n",
       "      <td>Bad</td>\n",
       "      <td>Above-7</td>\n",
       "      <td>L</td>\n",
       "    </tr>\n",
       "    <tr>\n",
       "      <th>3</th>\n",
       "      <td>M</td>\n",
       "      <td>KW</td>\n",
       "      <td>KuwaIT</td>\n",
       "      <td>lowerlevel</td>\n",
       "      <td>G-04</td>\n",
       "      <td>A</td>\n",
       "      <td>IT</td>\n",
       "      <td>F</td>\n",
       "      <td>Father</td>\n",
       "      <td>30</td>\n",
       "      <td>25</td>\n",
       "      <td>5</td>\n",
       "      <td>35</td>\n",
       "      <td>No</td>\n",
       "      <td>Bad</td>\n",
       "      <td>Above-7</td>\n",
       "      <td>L</td>\n",
       "    </tr>\n",
       "    <tr>\n",
       "      <th>4</th>\n",
       "      <td>M</td>\n",
       "      <td>KW</td>\n",
       "      <td>KuwaIT</td>\n",
       "      <td>lowerlevel</td>\n",
       "      <td>G-04</td>\n",
       "      <td>A</td>\n",
       "      <td>IT</td>\n",
       "      <td>F</td>\n",
       "      <td>Father</td>\n",
       "      <td>40</td>\n",
       "      <td>50</td>\n",
       "      <td>12</td>\n",
       "      <td>50</td>\n",
       "      <td>No</td>\n",
       "      <td>Bad</td>\n",
       "      <td>Above-7</td>\n",
       "      <td>M</td>\n",
       "    </tr>\n",
       "  </tbody>\n",
       "</table>\n",
       "</div>"
      ],
      "text/plain": [
       "  gender NationalITy PlaceofBirth     StageID GradeID SectionID Topic  \\\n",
       "0      M          KW       KuwaIT  lowerlevel    G-04         A    IT   \n",
       "1      M          KW       KuwaIT  lowerlevel    G-04         A    IT   \n",
       "2      M          KW       KuwaIT  lowerlevel    G-04         A    IT   \n",
       "3      M          KW       KuwaIT  lowerlevel    G-04         A    IT   \n",
       "4      M          KW       KuwaIT  lowerlevel    G-04         A    IT   \n",
       "\n",
       "  Semester Relation  raisedhands  VisITedResources  AnnouncementsView  \\\n",
       "0        F   Father           15                16                  2   \n",
       "1        F   Father           20                20                  3   \n",
       "2        F   Father           10                 7                  0   \n",
       "3        F   Father           30                25                  5   \n",
       "4        F   Father           40                50                 12   \n",
       "\n",
       "   Discussion ParentAnsweringSurvey ParentschoolSatisfaction  \\\n",
       "0          20                   Yes                     Good   \n",
       "1          25                   Yes                     Good   \n",
       "2          30                    No                      Bad   \n",
       "3          35                    No                      Bad   \n",
       "4          50                    No                      Bad   \n",
       "\n",
       "  StudentAbsenceDays Class  \n",
       "0            Under-7     M  \n",
       "1            Under-7     M  \n",
       "2            Above-7     L  \n",
       "3            Above-7     L  \n",
       "4            Above-7     M  "
      ]
     },
     "execution_count": 18,
     "metadata": {},
     "output_type": "execute_result"
    }
   ],
   "source": [
    "df1.head()"
   ]
  },
  {
   "cell_type": "code",
   "execution_count": 19,
   "id": "248a0d3e",
   "metadata": {},
   "outputs": [
    {
     "data": {
      "text/html": [
       "<div>\n",
       "<style scoped>\n",
       "    .dataframe tbody tr th:only-of-type {\n",
       "        vertical-align: middle;\n",
       "    }\n",
       "\n",
       "    .dataframe tbody tr th {\n",
       "        vertical-align: top;\n",
       "    }\n",
       "\n",
       "    .dataframe thead th {\n",
       "        text-align: right;\n",
       "    }\n",
       "</style>\n",
       "<table border=\"1\" class=\"dataframe\">\n",
       "  <thead>\n",
       "    <tr style=\"text-align: right;\">\n",
       "      <th></th>\n",
       "      <th>raisedhands</th>\n",
       "      <th>VisITedResources</th>\n",
       "      <th>AnnouncementsView</th>\n",
       "      <th>Discussion</th>\n",
       "      <th>StudentAbsenceDays</th>\n",
       "      <th>Class</th>\n",
       "    </tr>\n",
       "  </thead>\n",
       "  <tbody>\n",
       "    <tr>\n",
       "      <th>0</th>\n",
       "      <td>15</td>\n",
       "      <td>16</td>\n",
       "      <td>2</td>\n",
       "      <td>20</td>\n",
       "      <td>Under-7</td>\n",
       "      <td>M</td>\n",
       "    </tr>\n",
       "    <tr>\n",
       "      <th>1</th>\n",
       "      <td>20</td>\n",
       "      <td>20</td>\n",
       "      <td>3</td>\n",
       "      <td>25</td>\n",
       "      <td>Under-7</td>\n",
       "      <td>M</td>\n",
       "    </tr>\n",
       "    <tr>\n",
       "      <th>2</th>\n",
       "      <td>10</td>\n",
       "      <td>7</td>\n",
       "      <td>0</td>\n",
       "      <td>30</td>\n",
       "      <td>Above-7</td>\n",
       "      <td>L</td>\n",
       "    </tr>\n",
       "    <tr>\n",
       "      <th>3</th>\n",
       "      <td>30</td>\n",
       "      <td>25</td>\n",
       "      <td>5</td>\n",
       "      <td>35</td>\n",
       "      <td>Above-7</td>\n",
       "      <td>L</td>\n",
       "    </tr>\n",
       "    <tr>\n",
       "      <th>4</th>\n",
       "      <td>40</td>\n",
       "      <td>50</td>\n",
       "      <td>12</td>\n",
       "      <td>50</td>\n",
       "      <td>Above-7</td>\n",
       "      <td>M</td>\n",
       "    </tr>\n",
       "  </tbody>\n",
       "</table>\n",
       "</div>"
      ],
      "text/plain": [
       "   raisedhands  VisITedResources  AnnouncementsView  Discussion  \\\n",
       "0           15                16                  2          20   \n",
       "1           20                20                  3          25   \n",
       "2           10                 7                  0          30   \n",
       "3           30                25                  5          35   \n",
       "4           40                50                 12          50   \n",
       "\n",
       "  StudentAbsenceDays Class  \n",
       "0            Under-7     M  \n",
       "1            Under-7     M  \n",
       "2            Above-7     L  \n",
       "3            Above-7     L  \n",
       "4            Above-7     M  "
      ]
     },
     "execution_count": 19,
     "metadata": {},
     "output_type": "execute_result"
    }
   ],
   "source": [
    "# df2 conatins features revant for model building\n",
    "df2 = df1.loc[:,['raisedhands','VisITedResources', 'AnnouncementsView', 'Discussion','StudentAbsenceDays', 'Class']]\n",
    "df2.head()"
   ]
  },
  {
   "cell_type": "code",
   "execution_count": 20,
   "id": "1369e63d",
   "metadata": {},
   "outputs": [
    {
     "data": {
      "text/plain": [
       "array(['Under-7', 'Above-7'], dtype=object)"
      ]
     },
     "execution_count": 20,
     "metadata": {},
     "output_type": "execute_result"
    }
   ],
   "source": [
    "# Unique values present in 'StudentAbsenceDays'\n",
    "df2['StudentAbsenceDays'].unique()"
   ]
  },
  {
   "cell_type": "code",
   "execution_count": 21,
   "id": "322006c7",
   "metadata": {},
   "outputs": [
    {
     "data": {
      "text/html": [
       "<div>\n",
       "<style scoped>\n",
       "    .dataframe tbody tr th:only-of-type {\n",
       "        vertical-align: middle;\n",
       "    }\n",
       "\n",
       "    .dataframe tbody tr th {\n",
       "        vertical-align: top;\n",
       "    }\n",
       "\n",
       "    .dataframe thead th {\n",
       "        text-align: right;\n",
       "    }\n",
       "</style>\n",
       "<table border=\"1\" class=\"dataframe\">\n",
       "  <thead>\n",
       "    <tr style=\"text-align: right;\">\n",
       "      <th></th>\n",
       "      <th>raisedhands</th>\n",
       "      <th>VisITedResources</th>\n",
       "      <th>AnnouncementsView</th>\n",
       "      <th>Discussion</th>\n",
       "      <th>StudentAbsenceDays</th>\n",
       "      <th>Class</th>\n",
       "      <th>AbsentMoreThan7</th>\n",
       "    </tr>\n",
       "  </thead>\n",
       "  <tbody>\n",
       "    <tr>\n",
       "      <th>0</th>\n",
       "      <td>15</td>\n",
       "      <td>16</td>\n",
       "      <td>2</td>\n",
       "      <td>20</td>\n",
       "      <td>Under-7</td>\n",
       "      <td>M</td>\n",
       "      <td>0</td>\n",
       "    </tr>\n",
       "    <tr>\n",
       "      <th>1</th>\n",
       "      <td>20</td>\n",
       "      <td>20</td>\n",
       "      <td>3</td>\n",
       "      <td>25</td>\n",
       "      <td>Under-7</td>\n",
       "      <td>M</td>\n",
       "      <td>0</td>\n",
       "    </tr>\n",
       "    <tr>\n",
       "      <th>2</th>\n",
       "      <td>10</td>\n",
       "      <td>7</td>\n",
       "      <td>0</td>\n",
       "      <td>30</td>\n",
       "      <td>Above-7</td>\n",
       "      <td>L</td>\n",
       "      <td>1</td>\n",
       "    </tr>\n",
       "    <tr>\n",
       "      <th>3</th>\n",
       "      <td>30</td>\n",
       "      <td>25</td>\n",
       "      <td>5</td>\n",
       "      <td>35</td>\n",
       "      <td>Above-7</td>\n",
       "      <td>L</td>\n",
       "      <td>1</td>\n",
       "    </tr>\n",
       "    <tr>\n",
       "      <th>4</th>\n",
       "      <td>40</td>\n",
       "      <td>50</td>\n",
       "      <td>12</td>\n",
       "      <td>50</td>\n",
       "      <td>Above-7</td>\n",
       "      <td>M</td>\n",
       "      <td>1</td>\n",
       "    </tr>\n",
       "  </tbody>\n",
       "</table>\n",
       "</div>"
      ],
      "text/plain": [
       "   raisedhands  VisITedResources  AnnouncementsView  Discussion  \\\n",
       "0           15                16                  2          20   \n",
       "1           20                20                  3          25   \n",
       "2           10                 7                  0          30   \n",
       "3           30                25                  5          35   \n",
       "4           40                50                 12          50   \n",
       "\n",
       "  StudentAbsenceDays Class  AbsentMoreThan7  \n",
       "0            Under-7     M                0  \n",
       "1            Under-7     M                0  \n",
       "2            Above-7     L                1  \n",
       "3            Above-7     L                1  \n",
       "4            Above-7     M                1  "
      ]
     },
     "execution_count": 21,
     "metadata": {},
     "output_type": "execute_result"
    }
   ],
   "source": [
    "# Encoding StudentAbsenceDays\n",
    "df2['AbsentMoreThan7'] = df2['StudentAbsenceDays'].map({'Under-7':0,'Above-7':1})\n",
    "df2.head()"
   ]
  },
  {
   "cell_type": "code",
   "execution_count": 22,
   "id": "bb374b7b",
   "metadata": {},
   "outputs": [
    {
     "data": {
      "text/html": [
       "<div>\n",
       "<style scoped>\n",
       "    .dataframe tbody tr th:only-of-type {\n",
       "        vertical-align: middle;\n",
       "    }\n",
       "\n",
       "    .dataframe tbody tr th {\n",
       "        vertical-align: top;\n",
       "    }\n",
       "\n",
       "    .dataframe thead th {\n",
       "        text-align: right;\n",
       "    }\n",
       "</style>\n",
       "<table border=\"1\" class=\"dataframe\">\n",
       "  <thead>\n",
       "    <tr style=\"text-align: right;\">\n",
       "      <th></th>\n",
       "      <th>raisedhands</th>\n",
       "      <th>VisITedResources</th>\n",
       "      <th>AnnouncementsView</th>\n",
       "      <th>Discussion</th>\n",
       "      <th>Class</th>\n",
       "      <th>AbsentMoreThan7</th>\n",
       "    </tr>\n",
       "  </thead>\n",
       "  <tbody>\n",
       "    <tr>\n",
       "      <th>0</th>\n",
       "      <td>15</td>\n",
       "      <td>16</td>\n",
       "      <td>2</td>\n",
       "      <td>20</td>\n",
       "      <td>M</td>\n",
       "      <td>0</td>\n",
       "    </tr>\n",
       "    <tr>\n",
       "      <th>1</th>\n",
       "      <td>20</td>\n",
       "      <td>20</td>\n",
       "      <td>3</td>\n",
       "      <td>25</td>\n",
       "      <td>M</td>\n",
       "      <td>0</td>\n",
       "    </tr>\n",
       "    <tr>\n",
       "      <th>2</th>\n",
       "      <td>10</td>\n",
       "      <td>7</td>\n",
       "      <td>0</td>\n",
       "      <td>30</td>\n",
       "      <td>L</td>\n",
       "      <td>1</td>\n",
       "    </tr>\n",
       "    <tr>\n",
       "      <th>3</th>\n",
       "      <td>30</td>\n",
       "      <td>25</td>\n",
       "      <td>5</td>\n",
       "      <td>35</td>\n",
       "      <td>L</td>\n",
       "      <td>1</td>\n",
       "    </tr>\n",
       "    <tr>\n",
       "      <th>4</th>\n",
       "      <td>40</td>\n",
       "      <td>50</td>\n",
       "      <td>12</td>\n",
       "      <td>50</td>\n",
       "      <td>M</td>\n",
       "      <td>1</td>\n",
       "    </tr>\n",
       "  </tbody>\n",
       "</table>\n",
       "</div>"
      ],
      "text/plain": [
       "   raisedhands  VisITedResources  AnnouncementsView  Discussion Class  \\\n",
       "0           15                16                  2          20     M   \n",
       "1           20                20                  3          25     M   \n",
       "2           10                 7                  0          30     L   \n",
       "3           30                25                  5          35     L   \n",
       "4           40                50                 12          50     M   \n",
       "\n",
       "   AbsentMoreThan7  \n",
       "0                0  \n",
       "1                0  \n",
       "2                1  \n",
       "3                1  \n",
       "4                1  "
      ]
     },
     "execution_count": 22,
     "metadata": {},
     "output_type": "execute_result"
    }
   ],
   "source": [
    "# Dropping redundent StudentAbsenceDays\n",
    "df2.drop('StudentAbsenceDays',axis=1,inplace=True)\n",
    "df2.head()"
   ]
  },
  {
   "cell_type": "code",
   "execution_count": 23,
   "id": "01b68bb1",
   "metadata": {},
   "outputs": [],
   "source": [
    "# Changing the data type from numric to object\n",
    "df2['AbsentMoreThan7'] = df2['AbsentMoreThan7'].astype('object')"
   ]
  },
  {
   "cell_type": "code",
   "execution_count": 24,
   "id": "b466aada",
   "metadata": {},
   "outputs": [],
   "source": [
    "# Seperating numriacland categorical features into 2 seprate dataframe\n",
    "num_col = df2.select_dtypes(np.number)\n",
    "cat_col = df2.select_dtypes(object)"
   ]
  },
  {
   "cell_type": "code",
   "execution_count": 25,
   "id": "2a5f7c2a",
   "metadata": {},
   "outputs": [],
   "source": [
    "# Library\n",
    "from sklearn.preprocessing import StandardScaler"
   ]
  },
  {
   "cell_type": "code",
   "execution_count": 26,
   "id": "7010b556",
   "metadata": {},
   "outputs": [
    {
     "data": {
      "text/html": [
       "<div>\n",
       "<style scoped>\n",
       "    .dataframe tbody tr th:only-of-type {\n",
       "        vertical-align: middle;\n",
       "    }\n",
       "\n",
       "    .dataframe tbody tr th {\n",
       "        vertical-align: top;\n",
       "    }\n",
       "\n",
       "    .dataframe thead th {\n",
       "        text-align: right;\n",
       "    }\n",
       "</style>\n",
       "<table border=\"1\" class=\"dataframe\">\n",
       "  <thead>\n",
       "    <tr style=\"text-align: right;\">\n",
       "      <th></th>\n",
       "      <th>raisedhands</th>\n",
       "      <th>VisITedResources</th>\n",
       "      <th>AnnouncementsView</th>\n",
       "      <th>Discussion</th>\n",
       "    </tr>\n",
       "  </thead>\n",
       "  <tbody>\n",
       "    <tr>\n",
       "      <th>0</th>\n",
       "      <td>-1.033429</td>\n",
       "      <td>-1.174075</td>\n",
       "      <td>-1.351167</td>\n",
       "      <td>-0.843326</td>\n",
       "    </tr>\n",
       "    <tr>\n",
       "      <th>1</th>\n",
       "      <td>-0.870813</td>\n",
       "      <td>-1.053029</td>\n",
       "      <td>-1.313549</td>\n",
       "      <td>-0.662225</td>\n",
       "    </tr>\n",
       "    <tr>\n",
       "      <th>2</th>\n",
       "      <td>-1.196046</td>\n",
       "      <td>-1.446426</td>\n",
       "      <td>-1.426401</td>\n",
       "      <td>-0.481125</td>\n",
       "    </tr>\n",
       "    <tr>\n",
       "      <th>3</th>\n",
       "      <td>-0.545579</td>\n",
       "      <td>-0.901723</td>\n",
       "      <td>-1.238315</td>\n",
       "      <td>-0.300024</td>\n",
       "    </tr>\n",
       "    <tr>\n",
       "      <th>4</th>\n",
       "      <td>-0.220346</td>\n",
       "      <td>-0.145191</td>\n",
       "      <td>-0.974994</td>\n",
       "      <td>0.243279</td>\n",
       "    </tr>\n",
       "  </tbody>\n",
       "</table>\n",
       "</div>"
      ],
      "text/plain": [
       "   raisedhands  VisITedResources  AnnouncementsView  Discussion\n",
       "0    -1.033429         -1.174075          -1.351167   -0.843326\n",
       "1    -0.870813         -1.053029          -1.313549   -0.662225\n",
       "2    -1.196046         -1.446426          -1.426401   -0.481125\n",
       "3    -0.545579         -0.901723          -1.238315   -0.300024\n",
       "4    -0.220346         -0.145191          -0.974994    0.243279"
      ]
     },
     "execution_count": 26,
     "metadata": {},
     "output_type": "execute_result"
    }
   ],
   "source": [
    "# Scalling numrical features\n",
    "SS = StandardScaler()\n",
    "\n",
    "scaled_num = pd.DataFrame(SS.fit_transform(num_col),columns=num_col.columns)\n",
    "scaled_num.head()"
   ]
  },
  {
   "cell_type": "code",
   "execution_count": 27,
   "id": "7e5fe641",
   "metadata": {},
   "outputs": [
    {
     "data": {
      "text/html": [
       "<div>\n",
       "<style scoped>\n",
       "    .dataframe tbody tr th:only-of-type {\n",
       "        vertical-align: middle;\n",
       "    }\n",
       "\n",
       "    .dataframe tbody tr th {\n",
       "        vertical-align: top;\n",
       "    }\n",
       "\n",
       "    .dataframe thead th {\n",
       "        text-align: right;\n",
       "    }\n",
       "</style>\n",
       "<table border=\"1\" class=\"dataframe\">\n",
       "  <thead>\n",
       "    <tr style=\"text-align: right;\">\n",
       "      <th></th>\n",
       "      <th>Class</th>\n",
       "      <th>AbsentMoreThan7</th>\n",
       "    </tr>\n",
       "  </thead>\n",
       "  <tbody>\n",
       "    <tr>\n",
       "      <th>0</th>\n",
       "      <td>M</td>\n",
       "      <td>0</td>\n",
       "    </tr>\n",
       "    <tr>\n",
       "      <th>1</th>\n",
       "      <td>M</td>\n",
       "      <td>0</td>\n",
       "    </tr>\n",
       "    <tr>\n",
       "      <th>2</th>\n",
       "      <td>L</td>\n",
       "      <td>1</td>\n",
       "    </tr>\n",
       "    <tr>\n",
       "      <th>3</th>\n",
       "      <td>L</td>\n",
       "      <td>1</td>\n",
       "    </tr>\n",
       "    <tr>\n",
       "      <th>4</th>\n",
       "      <td>M</td>\n",
       "      <td>1</td>\n",
       "    </tr>\n",
       "  </tbody>\n",
       "</table>\n",
       "</div>"
      ],
      "text/plain": [
       "  Class AbsentMoreThan7\n",
       "0     M               0\n",
       "1     M               0\n",
       "2     L               1\n",
       "3     L               1\n",
       "4     M               1"
      ]
     },
     "execution_count": 27,
     "metadata": {},
     "output_type": "execute_result"
    }
   ],
   "source": [
    "# Categoriacl dataframe\n",
    "cat_col.head()"
   ]
  },
  {
   "cell_type": "code",
   "execution_count": 28,
   "id": "04f2e072",
   "metadata": {},
   "outputs": [
    {
     "data": {
      "text/plain": [
       "M    211\n",
       "H    142\n",
       "L    127\n",
       "Name: Class, dtype: int64"
      ]
     },
     "execution_count": 28,
     "metadata": {},
     "output_type": "execute_result"
    }
   ],
   "source": [
    "# Value counts of Class\n",
    "cat_col['Class'].value_counts()"
   ]
  },
  {
   "cell_type": "code",
   "execution_count": 29,
   "id": "9d9ac10b",
   "metadata": {},
   "outputs": [
    {
     "data": {
      "text/html": [
       "<div>\n",
       "<style scoped>\n",
       "    .dataframe tbody tr th:only-of-type {\n",
       "        vertical-align: middle;\n",
       "    }\n",
       "\n",
       "    .dataframe tbody tr th {\n",
       "        vertical-align: top;\n",
       "    }\n",
       "\n",
       "    .dataframe thead th {\n",
       "        text-align: right;\n",
       "    }\n",
       "</style>\n",
       "<table border=\"1\" class=\"dataframe\">\n",
       "  <thead>\n",
       "    <tr style=\"text-align: right;\">\n",
       "      <th></th>\n",
       "      <th>raisedhands</th>\n",
       "      <th>VisITedResources</th>\n",
       "      <th>AnnouncementsView</th>\n",
       "      <th>Discussion</th>\n",
       "      <th>Class</th>\n",
       "      <th>AbsentMoreThan7</th>\n",
       "    </tr>\n",
       "  </thead>\n",
       "  <tbody>\n",
       "    <tr>\n",
       "      <th>0</th>\n",
       "      <td>-1.033429</td>\n",
       "      <td>-1.174075</td>\n",
       "      <td>-1.351167</td>\n",
       "      <td>-0.843326</td>\n",
       "      <td>M</td>\n",
       "      <td>0</td>\n",
       "    </tr>\n",
       "    <tr>\n",
       "      <th>1</th>\n",
       "      <td>-0.870813</td>\n",
       "      <td>-1.053029</td>\n",
       "      <td>-1.313549</td>\n",
       "      <td>-0.662225</td>\n",
       "      <td>M</td>\n",
       "      <td>0</td>\n",
       "    </tr>\n",
       "    <tr>\n",
       "      <th>2</th>\n",
       "      <td>-1.196046</td>\n",
       "      <td>-1.446426</td>\n",
       "      <td>-1.426401</td>\n",
       "      <td>-0.481125</td>\n",
       "      <td>L</td>\n",
       "      <td>1</td>\n",
       "    </tr>\n",
       "    <tr>\n",
       "      <th>3</th>\n",
       "      <td>-0.545579</td>\n",
       "      <td>-0.901723</td>\n",
       "      <td>-1.238315</td>\n",
       "      <td>-0.300024</td>\n",
       "      <td>L</td>\n",
       "      <td>1</td>\n",
       "    </tr>\n",
       "    <tr>\n",
       "      <th>4</th>\n",
       "      <td>-0.220346</td>\n",
       "      <td>-0.145191</td>\n",
       "      <td>-0.974994</td>\n",
       "      <td>0.243279</td>\n",
       "      <td>M</td>\n",
       "      <td>1</td>\n",
       "    </tr>\n",
       "  </tbody>\n",
       "</table>\n",
       "</div>"
      ],
      "text/plain": [
       "   raisedhands  VisITedResources  AnnouncementsView  Discussion Class  \\\n",
       "0    -1.033429         -1.174075          -1.351167   -0.843326     M   \n",
       "1    -0.870813         -1.053029          -1.313549   -0.662225     M   \n",
       "2    -1.196046         -1.446426          -1.426401   -0.481125     L   \n",
       "3    -0.545579         -0.901723          -1.238315   -0.300024     L   \n",
       "4    -0.220346         -0.145191          -0.974994    0.243279     M   \n",
       "\n",
       "  AbsentMoreThan7  \n",
       "0               0  \n",
       "1               0  \n",
       "2               1  \n",
       "3               1  \n",
       "4               1  "
      ]
     },
     "execution_count": 29,
     "metadata": {},
     "output_type": "execute_result"
    }
   ],
   "source": [
    "# Concatinating sacled umrical column and categorical column\n",
    "final = pd.concat([scaled_num,cat_col],axis=1)\n",
    "final.head()"
   ]
  },
  {
   "cell_type": "markdown",
   "id": "158cff92",
   "metadata": {},
   "source": [
    "## 3. Model Building"
   ]
  },
  {
   "cell_type": "code",
   "execution_count": 30,
   "id": "8689ce50",
   "metadata": {},
   "outputs": [
    {
     "data": {
      "text/plain": [
       "<AxesSubplot:>"
      ]
     },
     "execution_count": 30,
     "metadata": {},
     "output_type": "execute_result"
    },
    {
     "data": {
      "image/png": "[encoded data removed]",
      "text/plain": [
       "<Figure size 432x288 with 2 Axes>"
      ]
     },
     "metadata": {
      "needs_background": "light"
     },
     "output_type": "display_data"
    }
   ],
   "source": [
    "# Corelation metric\n",
    "sns.heatmap(final.corr(),annot=True)"
   ]
  },
  {
   "cell_type": "code",
   "execution_count": 31,
   "id": "47d10e27",
   "metadata": {},
   "outputs": [],
   "source": [
    "# Library\n",
    "from sklearn.model_selection import train_test_split"
   ]
  },
  {
   "cell_type": "code",
   "execution_count": 32,
   "id": "0a3d26b3",
   "metadata": {},
   "outputs": [],
   "source": [
    "# Splitting data into test and train \n",
    "X = final.drop('Class',axis=1)\n",
    "y = final.Class\n",
    "\n",
    "X_train,X_test,y_train,y_test = train_test_split(X,y,test_size=0.3,random_state=1)"
   ]
  },
  {
   "cell_type": "markdown",
   "id": "a98996a7",
   "metadata": {},
   "source": [
    "### 3.1 Logistic Regression"
   ]
  },
  {
   "cell_type": "code",
   "execution_count": 40,
   "id": "446dcb37",
   "metadata": {},
   "outputs": [],
   "source": [
    "# Library\n",
    "from sklearn.linear_model import LogisticRegression\n",
    "from sklearn.metrics import confusion_matrix,accuracy_score,auc, classification_report, roc_auc_score, plot_roc_curve\n",
    "from sklearn.model_selection import cross_val_score"
   ]
  },
  {
   "cell_type": "code",
   "execution_count": 34,
   "id": "87d94d79",
   "metadata": {},
   "outputs": [],
   "source": [
    "# LR Machine\n",
    "lr = LogisticRegression()\n",
    "\n",
    "model1 = lr.fit(X,y)\n",
    "ypred = model1.predict(X_test)"
   ]
  },
  {
   "cell_type": "code",
   "execution_count": 37,
   "id": "9ae6e2c6",
   "metadata": {},
   "outputs": [
    {
     "data": {
      "text/plain": [
       "<AxesSubplot:>"
      ]
     },
     "execution_count": 37,
     "metadata": {},
     "output_type": "execute_result"
    },
    {
     "data": {
      "image/png": "[encoded data removed]",
      "text/plain": [
       "<Figure size 432x288 with 2 Axes>"
      ]
     },
     "metadata": {
      "needs_background": "light"
     },
     "output_type": "display_data"
    }
   ],
   "source": [
    "# Confusion metric\n",
    "cm = confusion_matrix(y_test,ypred)\n",
    "sns.heatmap(cm,fmt='.1f',annot=True)"
   ]
  },
  {
   "cell_type": "code",
   "execution_count": 35,
   "id": "4afa6480",
   "metadata": {},
   "outputs": [
    {
     "data": {
      "text/plain": [
       "0.7430555555555556"
      ]
     },
     "execution_count": 35,
     "metadata": {},
     "output_type": "execute_result"
    }
   ],
   "source": [
    "# Accurary score\n",
    "accuracy_score(y_test,ypred)"
   ]
  },
  {
   "cell_type": "code",
   "execution_count": 39,
   "id": "e2424f0f",
   "metadata": {},
   "outputs": [
    {
     "name": "stdout",
     "output_type": "stream",
     "text": [
      "              precision    recall  f1-score   support\n",
      "\n",
      "           H       0.76      0.76      0.76        55\n",
      "           L       0.81      0.88      0.84        33\n",
      "           M       0.68      0.64      0.66        56\n",
      "\n",
      "    accuracy                           0.74       144\n",
      "   macro avg       0.75      0.76      0.75       144\n",
      "weighted avg       0.74      0.74      0.74       144\n",
      "\n"
     ]
    }
   ],
   "source": [
    "# Classification Report\n",
    "print(classification_report(y_test,ypred))"
   ]
  },
  {
   "cell_type": "markdown",
   "id": "fc8daa69",
   "metadata": {},
   "source": [
    "**Infrence:**\n",
    "1. Logistic Regresson is giving 74.5% Accuracy.\n",
    "2. From the classification report we can see that precision, recall and F1-score of class M is poor which is making our accurary low."
   ]
  },
  {
   "cell_type": "code",
   "execution_count": 45,
   "id": "9a673a64",
   "metadata": {},
   "outputs": [
    {
     "data": {
      "text/plain": [
       "<AxesSubplot:xlabel='raisedhands', ylabel='VisITedResources'>"
      ]
     },
     "execution_count": 45,
     "metadata": {},
     "output_type": "execute_result"
    },
    {
     "data": {
      "image/png": "[encoded data removed]",
      "text/plain": [
       "<Figure size 432x288 with 1 Axes>"
      ]
     },
     "metadata": {
      "needs_background": "light"
     },
     "output_type": "display_data"
    }
   ],
   "source": [
    "sns.scatterplot(df2['raisedhands'],df2['VisITedResources'], hue=df2['Class'])"
   ]
  },
  {
   "cell_type": "markdown",
   "id": "dab063a3",
   "metadata": {},
   "source": [
    "**Observation:**\n",
    "1. Our Logistic model was unable to properly classify Class M.\n",
    "2. From scatter plot b/w 'raisedhands' and 'VisITedResources' we can see that few students of class M are showing behaviour simmilar to class L and H. \n",
    "3. Hence our model was unalble to classify well."
   ]
  },
  {
   "cell_type": "markdown",
   "id": "f83f00f0",
   "metadata": {},
   "source": [
    "### 3.2 CatBoost"
   ]
  },
  {
   "cell_type": "code",
   "execution_count": 47,
   "id": "f8f7c972",
   "metadata": {},
   "outputs": [],
   "source": [
    "# Library\n",
    "from catboost import CatBoostClassifier"
   ]
  },
  {
   "cell_type": "code",
   "execution_count": 48,
   "id": "f155cf69",
   "metadata": {},
   "outputs": [
    {
     "name": "stdout",
     "output_type": "stream",
     "text": [
      "Learning rate set to 0.07622\n",
      "0:\tlearn: 1.0507162\ttotal: 335ms\tremaining: 5m 34s\n",
      "1:\tlearn: 1.0104668\ttotal: 339ms\tremaining: 2m 49s\n",
      "2:\tlearn: 0.9736749\ttotal: 349ms\tremaining: 1m 56s\n",
      "3:\tlearn: 0.9423036\ttotal: 356ms\tremaining: 1m 28s\n",
      "4:\tlearn: 0.9120681\ttotal: 357ms\tremaining: 1m 11s\n",
      "5:\tlearn: 0.8840995\ttotal: 360ms\tremaining: 59.6s\n",
      "6:\tlearn: 0.8595010\ttotal: 362ms\tremaining: 51.4s\n",
      "7:\tlearn: 0.8373435\ttotal: 364ms\tremaining: 45.2s\n",
      "8:\tlearn: 0.8161564\ttotal: 366ms\tremaining: 40.3s\n",
      "9:\tlearn: 0.7954727\ttotal: 368ms\tremaining: 36.4s\n",
      "10:\tlearn: 0.7786787\ttotal: 371ms\tremaining: 33.3s\n",
      "11:\tlearn: 0.7625048\ttotal: 374ms\tremaining: 30.8s\n",
      "12:\tlearn: 0.7470836\ttotal: 375ms\tremaining: 28.5s\n",
      "13:\tlearn: 0.7314506\ttotal: 377ms\tremaining: 26.6s\n",
      "14:\tlearn: 0.7161523\ttotal: 379ms\tremaining: 24.9s\n",
      "15:\tlearn: 0.7042223\ttotal: 380ms\tremaining: 23.4s\n",
      "16:\tlearn: 0.6912058\ttotal: 382ms\tremaining: 22.1s\n",
      "17:\tlearn: 0.6800246\ttotal: 384ms\tremaining: 20.9s\n",
      "18:\tlearn: 0.6699951\ttotal: 387ms\tremaining: 20s\n",
      "19:\tlearn: 0.6615003\ttotal: 387ms\tremaining: 19s\n",
      "20:\tlearn: 0.6517032\ttotal: 389ms\tremaining: 18.1s\n",
      "21:\tlearn: 0.6430417\ttotal: 390ms\tremaining: 17.4s\n",
      "22:\tlearn: 0.6350239\ttotal: 392ms\tremaining: 16.7s\n",
      "23:\tlearn: 0.6268713\ttotal: 395ms\tremaining: 16s\n",
      "24:\tlearn: 0.6187416\ttotal: 397ms\tremaining: 15.5s\n",
      "25:\tlearn: 0.6129493\ttotal: 400ms\tremaining: 15s\n",
      "26:\tlearn: 0.6065515\ttotal: 402ms\tremaining: 14.5s\n",
      "27:\tlearn: 0.6011288\ttotal: 404ms\tremaining: 14s\n",
      "28:\tlearn: 0.5941983\ttotal: 406ms\tremaining: 13.6s\n",
      "29:\tlearn: 0.5904264\ttotal: 407ms\tremaining: 13.2s\n",
      "30:\tlearn: 0.5850372\ttotal: 409ms\tremaining: 12.8s\n",
      "31:\tlearn: 0.5798029\ttotal: 410ms\tremaining: 12.4s\n",
      "32:\tlearn: 0.5750516\ttotal: 414ms\tremaining: 12.1s\n",
      "33:\tlearn: 0.5702834\ttotal: 416ms\tremaining: 11.8s\n",
      "34:\tlearn: 0.5658170\ttotal: 418ms\tremaining: 11.5s\n",
      "35:\tlearn: 0.5614545\ttotal: 420ms\tremaining: 11.2s\n",
      "36:\tlearn: 0.5570975\ttotal: 422ms\tremaining: 11s\n",
      "37:\tlearn: 0.5538650\ttotal: 423ms\tremaining: 10.7s\n",
      "38:\tlearn: 0.5502897\ttotal: 425ms\tremaining: 10.5s\n",
      "39:\tlearn: 0.5460109\ttotal: 426ms\tremaining: 10.2s\n",
      "40:\tlearn: 0.5419336\ttotal: 429ms\tremaining: 10s\n",
      "41:\tlearn: 0.5380435\ttotal: 431ms\tremaining: 9.82s\n",
      "42:\tlearn: 0.5345916\ttotal: 432ms\tremaining: 9.62s\n",
      "43:\tlearn: 0.5312736\ttotal: 434ms\tremaining: 9.43s\n",
      "44:\tlearn: 0.5282178\ttotal: 436ms\tremaining: 9.26s\n",
      "45:\tlearn: 0.5268162\ttotal: 437ms\tremaining: 9.07s\n",
      "46:\tlearn: 0.5243367\ttotal: 440ms\tremaining: 8.92s\n",
      "47:\tlearn: 0.5212130\ttotal: 442ms\tremaining: 8.77s\n",
      "48:\tlearn: 0.5188832\ttotal: 445ms\tremaining: 8.63s\n",
      "49:\tlearn: 0.5157239\ttotal: 447ms\tremaining: 8.5s\n",
      "50:\tlearn: 0.5124360\ttotal: 450ms\tremaining: 8.37s\n",
      "51:\tlearn: 0.5094542\ttotal: 452ms\tremaining: 8.24s\n",
      "52:\tlearn: 0.5071347\ttotal: 454ms\tremaining: 8.12s\n",
      "53:\tlearn: 0.5043513\ttotal: 457ms\tremaining: 8.01s\n",
      "54:\tlearn: 0.5016757\ttotal: 459ms\tremaining: 7.89s\n",
      "55:\tlearn: 0.4996434\ttotal: 461ms\tremaining: 7.76s\n",
      "56:\tlearn: 0.4976135\ttotal: 463ms\tremaining: 7.66s\n",
      "57:\tlearn: 0.4951620\ttotal: 466ms\tremaining: 7.57s\n",
      "58:\tlearn: 0.4927253\ttotal: 468ms\tremaining: 7.47s\n",
      "59:\tlearn: 0.4905661\ttotal: 471ms\tremaining: 7.37s\n",
      "60:\tlearn: 0.4891677\ttotal: 473ms\tremaining: 7.28s\n",
      "61:\tlearn: 0.4869154\ttotal: 477ms\tremaining: 7.21s\n",
      "62:\tlearn: 0.4835335\ttotal: 479ms\tremaining: 7.13s\n",
      "63:\tlearn: 0.4813909\ttotal: 482ms\tremaining: 7.05s\n",
      "64:\tlearn: 0.4789221\ttotal: 485ms\tremaining: 6.98s\n",
      "65:\tlearn: 0.4778268\ttotal: 487ms\tremaining: 6.89s\n",
      "66:\tlearn: 0.4755942\ttotal: 490ms\tremaining: 6.82s\n",
      "67:\tlearn: 0.4739835\ttotal: 492ms\tremaining: 6.75s\n",
      "68:\tlearn: 0.4724154\ttotal: 495ms\tremaining: 6.68s\n",
      "69:\tlearn: 0.4698235\ttotal: 498ms\tremaining: 6.62s\n",
      "70:\tlearn: 0.4680034\ttotal: 502ms\tremaining: 6.57s\n",
      "71:\tlearn: 0.4659949\ttotal: 505ms\tremaining: 6.51s\n",
      "72:\tlearn: 0.4638985\ttotal: 509ms\tremaining: 6.46s\n",
      "73:\tlearn: 0.4622461\ttotal: 512ms\tremaining: 6.41s\n",
      "74:\tlearn: 0.4604858\ttotal: 515ms\tremaining: 6.35s\n",
      "75:\tlearn: 0.4581888\ttotal: 518ms\tremaining: 6.29s\n",
      "76:\tlearn: 0.4568070\ttotal: 522ms\tremaining: 6.25s\n",
      "77:\tlearn: 0.4551972\ttotal: 524ms\tremaining: 6.19s\n",
      "78:\tlearn: 0.4547844\ttotal: 525ms\tremaining: 6.12s\n",
      "79:\tlearn: 0.4535558\ttotal: 527ms\tremaining: 6.06s\n",
      "80:\tlearn: 0.4527383\ttotal: 529ms\tremaining: 6s\n",
      "81:\tlearn: 0.4511267\ttotal: 533ms\tremaining: 5.96s\n",
      "82:\tlearn: 0.4495695\ttotal: 535ms\tremaining: 5.91s\n",
      "83:\tlearn: 0.4483961\ttotal: 538ms\tremaining: 5.86s\n",
      "84:\tlearn: 0.4469386\ttotal: 540ms\tremaining: 5.81s\n",
      "85:\tlearn: 0.4444665\ttotal: 542ms\tremaining: 5.76s\n",
      "86:\tlearn: 0.4426239\ttotal: 544ms\tremaining: 5.7s\n",
      "87:\tlearn: 0.4404824\ttotal: 546ms\tremaining: 5.66s\n",
      "88:\tlearn: 0.4379338\ttotal: 548ms\tremaining: 5.61s\n",
      "89:\tlearn: 0.4364238\ttotal: 549ms\tremaining: 5.55s\n",
      "90:\tlearn: 0.4349999\ttotal: 551ms\tremaining: 5.5s\n",
      "91:\tlearn: 0.4336446\ttotal: 553ms\tremaining: 5.45s\n",
      "92:\tlearn: 0.4318900\ttotal: 554ms\tremaining: 5.41s\n",
      "93:\tlearn: 0.4300969\ttotal: 556ms\tremaining: 5.36s\n",
      "94:\tlearn: 0.4287601\ttotal: 557ms\tremaining: 5.31s\n",
      "95:\tlearn: 0.4279240\ttotal: 560ms\tremaining: 5.27s\n",
      "96:\tlearn: 0.4266177\ttotal: 562ms\tremaining: 5.23s\n",
      "97:\tlearn: 0.4245504\ttotal: 564ms\tremaining: 5.19s\n",
      "98:\tlearn: 0.4237119\ttotal: 565ms\tremaining: 5.14s\n",
      "99:\tlearn: 0.4221929\ttotal: 567ms\tremaining: 5.1s\n",
      "100:\tlearn: 0.4201091\ttotal: 569ms\tremaining: 5.06s\n",
      "101:\tlearn: 0.4193175\ttotal: 570ms\tremaining: 5.02s\n",
      "102:\tlearn: 0.4176445\ttotal: 573ms\tremaining: 4.99s\n",
      "103:\tlearn: 0.4162115\ttotal: 576ms\tremaining: 4.96s\n",
      "104:\tlearn: 0.4154221\ttotal: 578ms\tremaining: 4.92s\n",
      "105:\tlearn: 0.4142854\ttotal: 579ms\tremaining: 4.89s\n",
      "106:\tlearn: 0.4123642\ttotal: 581ms\tremaining: 4.85s\n",
      "107:\tlearn: 0.4107983\ttotal: 583ms\tremaining: 4.82s\n",
      "108:\tlearn: 0.4092438\ttotal: 585ms\tremaining: 4.78s\n",
      "109:\tlearn: 0.4080991\ttotal: 586ms\tremaining: 4.74s\n",
      "110:\tlearn: 0.4064699\ttotal: 588ms\tremaining: 4.71s\n",
      "111:\tlearn: 0.4051066\ttotal: 590ms\tremaining: 4.68s\n",
      "112:\tlearn: 0.4037734\ttotal: 592ms\tremaining: 4.64s\n",
      "113:\tlearn: 0.4021529\ttotal: 593ms\tremaining: 4.61s\n",
      "114:\tlearn: 0.4010684\ttotal: 595ms\tremaining: 4.58s\n",
      "115:\tlearn: 0.3985338\ttotal: 597ms\tremaining: 4.54s\n",
      "116:\tlearn: 0.3973424\ttotal: 598ms\tremaining: 4.51s\n",
      "117:\tlearn: 0.3962635\ttotal: 600ms\tremaining: 4.48s\n",
      "118:\tlearn: 0.3947773\ttotal: 603ms\tremaining: 4.46s\n",
      "119:\tlearn: 0.3927567\ttotal: 604ms\tremaining: 4.43s\n",
      "120:\tlearn: 0.3914152\ttotal: 606ms\tremaining: 4.4s\n",
      "121:\tlearn: 0.3904719\ttotal: 608ms\tremaining: 4.37s\n",
      "122:\tlearn: 0.3895684\ttotal: 609ms\tremaining: 4.34s\n",
      "123:\tlearn: 0.3879792\ttotal: 611ms\tremaining: 4.31s\n",
      "124:\tlearn: 0.3867653\ttotal: 612ms\tremaining: 4.29s\n",
      "125:\tlearn: 0.3853370\ttotal: 614ms\tremaining: 4.26s\n",
      "126:\tlearn: 0.3848232\ttotal: 616ms\tremaining: 4.23s\n",
      "127:\tlearn: 0.3838660\ttotal: 618ms\tremaining: 4.21s\n",
      "128:\tlearn: 0.3830456\ttotal: 620ms\tremaining: 4.18s\n",
      "129:\tlearn: 0.3818028\ttotal: 621ms\tremaining: 4.16s\n",
      "130:\tlearn: 0.3806252\ttotal: 623ms\tremaining: 4.13s\n",
      "131:\tlearn: 0.3795589\ttotal: 624ms\tremaining: 4.11s\n",
      "132:\tlearn: 0.3788482\ttotal: 626ms\tremaining: 4.08s\n",
      "133:\tlearn: 0.3774200\ttotal: 628ms\tremaining: 4.06s\n",
      "134:\tlearn: 0.3759481\ttotal: 630ms\tremaining: 4.03s\n",
      "135:\tlearn: 0.3748960\ttotal: 631ms\tremaining: 4.01s\n",
      "136:\tlearn: 0.3742770\ttotal: 634ms\tremaining: 3.99s\n",
      "137:\tlearn: 0.3736474\ttotal: 636ms\tremaining: 3.97s\n",
      "138:\tlearn: 0.3724772\ttotal: 637ms\tremaining: 3.95s\n",
      "139:\tlearn: 0.3715273\ttotal: 639ms\tremaining: 3.92s\n",
      "140:\tlearn: 0.3703927\ttotal: 640ms\tremaining: 3.9s\n",
      "141:\tlearn: 0.3682154\ttotal: 642ms\tremaining: 3.88s\n",
      "142:\tlearn: 0.3669748\ttotal: 644ms\tremaining: 3.86s\n",
      "143:\tlearn: 0.3655330\ttotal: 645ms\tremaining: 3.83s\n",
      "144:\tlearn: 0.3648872\ttotal: 647ms\tremaining: 3.82s\n",
      "145:\tlearn: 0.3639233\ttotal: 649ms\tremaining: 3.8s\n",
      "146:\tlearn: 0.3628846\ttotal: 651ms\tremaining: 3.78s\n",
      "147:\tlearn: 0.3617785\ttotal: 653ms\tremaining: 3.76s\n",
      "148:\tlearn: 0.3608330\ttotal: 654ms\tremaining: 3.74s\n",
      "149:\tlearn: 0.3591072\ttotal: 657ms\tremaining: 3.72s\n",
      "150:\tlearn: 0.3578844\ttotal: 660ms\tremaining: 3.71s\n",
      "151:\tlearn: 0.3567600\ttotal: 663ms\tremaining: 3.7s\n",
      "152:\tlearn: 0.3555356\ttotal: 665ms\tremaining: 3.68s\n",
      "153:\tlearn: 0.3545809\ttotal: 667ms\tremaining: 3.67s\n",
      "154:\tlearn: 0.3535707\ttotal: 670ms\tremaining: 3.65s\n",
      "155:\tlearn: 0.3528092\ttotal: 672ms\tremaining: 3.63s\n",
      "156:\tlearn: 0.3514383\ttotal: 674ms\tremaining: 3.62s\n",
      "157:\tlearn: 0.3498472\ttotal: 678ms\tremaining: 3.61s\n",
      "158:\tlearn: 0.3484945\ttotal: 681ms\tremaining: 3.6s\n",
      "159:\tlearn: 0.3479221\ttotal: 683ms\tremaining: 3.58s\n",
      "160:\tlearn: 0.3473009\ttotal: 685ms\tremaining: 3.57s\n",
      "161:\tlearn: 0.3462761\ttotal: 687ms\tremaining: 3.56s\n",
      "162:\tlearn: 0.3454160\ttotal: 690ms\tremaining: 3.54s\n",
      "163:\tlearn: 0.3450703\ttotal: 693ms\tremaining: 3.53s\n",
      "164:\tlearn: 0.3441042\ttotal: 695ms\tremaining: 3.52s\n",
      "165:\tlearn: 0.3433815\ttotal: 698ms\tremaining: 3.51s\n",
      "166:\tlearn: 0.3416478\ttotal: 700ms\tremaining: 3.49s\n",
      "167:\tlearn: 0.3406779\ttotal: 702ms\tremaining: 3.48s\n",
      "168:\tlearn: 0.3400582\ttotal: 706ms\tremaining: 3.47s\n",
      "169:\tlearn: 0.3383016\ttotal: 708ms\tremaining: 3.46s\n",
      "170:\tlearn: 0.3373860\ttotal: 711ms\tremaining: 3.45s\n",
      "171:\tlearn: 0.3362664\ttotal: 713ms\tremaining: 3.43s\n",
      "172:\tlearn: 0.3353951\ttotal: 715ms\tremaining: 3.42s\n",
      "173:\tlearn: 0.3343534\ttotal: 717ms\tremaining: 3.4s\n",
      "174:\tlearn: 0.3332160\ttotal: 718ms\tremaining: 3.38s\n",
      "175:\tlearn: 0.3326511\ttotal: 721ms\tremaining: 3.37s\n",
      "176:\tlearn: 0.3317853\ttotal: 723ms\tremaining: 3.36s\n",
      "177:\tlearn: 0.3309122\ttotal: 725ms\tremaining: 3.35s\n",
      "178:\tlearn: 0.3297770\ttotal: 727ms\tremaining: 3.33s\n",
      "179:\tlearn: 0.3289369\ttotal: 729ms\tremaining: 3.32s\n",
      "180:\tlearn: 0.3278737\ttotal: 730ms\tremaining: 3.3s\n",
      "181:\tlearn: 0.3270341\ttotal: 732ms\tremaining: 3.29s\n",
      "182:\tlearn: 0.3258027\ttotal: 734ms\tremaining: 3.28s\n",
      "183:\tlearn: 0.3249424\ttotal: 736ms\tremaining: 3.27s\n",
      "184:\tlearn: 0.3237396\ttotal: 738ms\tremaining: 3.25s\n",
      "185:\tlearn: 0.3229277\ttotal: 740ms\tremaining: 3.24s\n",
      "186:\tlearn: 0.3220107\ttotal: 742ms\tremaining: 3.23s\n",
      "187:\tlearn: 0.3211354\ttotal: 744ms\tremaining: 3.21s\n",
      "188:\tlearn: 0.3205422\ttotal: 745ms\tremaining: 3.2s\n",
      "189:\tlearn: 0.3197965\ttotal: 747ms\tremaining: 3.18s\n",
      "190:\tlearn: 0.3184283\ttotal: 749ms\tremaining: 3.17s\n",
      "191:\tlearn: 0.3175942\ttotal: 751ms\tremaining: 3.16s\n",
      "192:\tlearn: 0.3169455\ttotal: 753ms\tremaining: 3.15s\n",
      "193:\tlearn: 0.3163303\ttotal: 755ms\tremaining: 3.14s\n",
      "194:\tlearn: 0.3153123\ttotal: 757ms\tremaining: 3.13s\n",
      "195:\tlearn: 0.3145133\ttotal: 759ms\tremaining: 3.12s\n",
      "196:\tlearn: 0.3133493\ttotal: 762ms\tremaining: 3.1s\n",
      "197:\tlearn: 0.3123793\ttotal: 765ms\tremaining: 3.1s\n",
      "198:\tlearn: 0.3118900\ttotal: 767ms\tremaining: 3.09s\n",
      "199:\tlearn: 0.3111901\ttotal: 769ms\tremaining: 3.08s\n",
      "200:\tlearn: 0.3102913\ttotal: 771ms\tremaining: 3.06s\n",
      "201:\tlearn: 0.3092606\ttotal: 772ms\tremaining: 3.05s\n",
      "202:\tlearn: 0.3079078\ttotal: 774ms\tremaining: 3.04s\n",
      "203:\tlearn: 0.3068783\ttotal: 775ms\tremaining: 3.02s\n",
      "204:\tlearn: 0.3060774\ttotal: 777ms\tremaining: 3.01s\n",
      "205:\tlearn: 0.3054046\ttotal: 779ms\tremaining: 3s\n",
      "206:\tlearn: 0.3048382\ttotal: 780ms\tremaining: 2.99s\n",
      "207:\tlearn: 0.3040236\ttotal: 782ms\tremaining: 2.98s\n",
      "208:\tlearn: 0.3030287\ttotal: 784ms\tremaining: 2.96s\n",
      "209:\tlearn: 0.3022571\ttotal: 785ms\tremaining: 2.95s\n",
      "210:\tlearn: 0.3015920\ttotal: 787ms\tremaining: 2.94s\n",
      "211:\tlearn: 0.3008655\ttotal: 789ms\tremaining: 2.93s\n",
      "212:\tlearn: 0.3000296\ttotal: 791ms\tremaining: 2.92s\n",
      "213:\tlearn: 0.2987143\ttotal: 793ms\tremaining: 2.91s\n",
      "214:\tlearn: 0.2976065\ttotal: 795ms\tremaining: 2.9s\n",
      "215:\tlearn: 0.2969963\ttotal: 797ms\tremaining: 2.89s\n",
      "216:\tlearn: 0.2963656\ttotal: 798ms\tremaining: 2.88s\n",
      "217:\tlearn: 0.2957863\ttotal: 800ms\tremaining: 2.87s\n",
      "218:\tlearn: 0.2950292\ttotal: 802ms\tremaining: 2.86s\n",
      "219:\tlearn: 0.2945049\ttotal: 804ms\tremaining: 2.85s\n",
      "220:\tlearn: 0.2937484\ttotal: 805ms\tremaining: 2.84s\n",
      "221:\tlearn: 0.2929119\ttotal: 807ms\tremaining: 2.83s\n",
      "222:\tlearn: 0.2920268\ttotal: 809ms\tremaining: 2.82s\n",
      "223:\tlearn: 0.2912041\ttotal: 811ms\tremaining: 2.81s\n",
      "224:\tlearn: 0.2903824\ttotal: 813ms\tremaining: 2.8s\n",
      "225:\tlearn: 0.2897295\ttotal: 815ms\tremaining: 2.79s\n",
      "226:\tlearn: 0.2891980\ttotal: 817ms\tremaining: 2.78s\n",
      "227:\tlearn: 0.2888147\ttotal: 819ms\tremaining: 2.77s\n",
      "228:\tlearn: 0.2882956\ttotal: 820ms\tremaining: 2.76s\n"
     ]
    },
    {
     "name": "stdout",
     "output_type": "stream",
     "text": [
      "229:\tlearn: 0.2874924\ttotal: 824ms\tremaining: 2.76s\n",
      "230:\tlearn: 0.2864657\ttotal: 826ms\tremaining: 2.75s\n",
      "231:\tlearn: 0.2858087\ttotal: 828ms\tremaining: 2.74s\n",
      "232:\tlearn: 0.2850512\ttotal: 830ms\tremaining: 2.73s\n",
      "233:\tlearn: 0.2844616\ttotal: 832ms\tremaining: 2.72s\n",
      "234:\tlearn: 0.2840116\ttotal: 833ms\tremaining: 2.71s\n",
      "235:\tlearn: 0.2829215\ttotal: 836ms\tremaining: 2.71s\n",
      "236:\tlearn: 0.2822443\ttotal: 838ms\tremaining: 2.7s\n",
      "237:\tlearn: 0.2816610\ttotal: 840ms\tremaining: 2.69s\n",
      "238:\tlearn: 0.2811258\ttotal: 843ms\tremaining: 2.68s\n",
      "239:\tlearn: 0.2806137\ttotal: 845ms\tremaining: 2.68s\n",
      "240:\tlearn: 0.2799849\ttotal: 849ms\tremaining: 2.67s\n",
      "241:\tlearn: 0.2793369\ttotal: 852ms\tremaining: 2.67s\n",
      "242:\tlearn: 0.2783624\ttotal: 854ms\tremaining: 2.66s\n",
      "243:\tlearn: 0.2776800\ttotal: 857ms\tremaining: 2.65s\n",
      "244:\tlearn: 0.2772645\ttotal: 859ms\tremaining: 2.65s\n",
      "245:\tlearn: 0.2767826\ttotal: 862ms\tremaining: 2.64s\n",
      "246:\tlearn: 0.2765217\ttotal: 864ms\tremaining: 2.63s\n",
      "247:\tlearn: 0.2758001\ttotal: 867ms\tremaining: 2.63s\n",
      "248:\tlearn: 0.2747153\ttotal: 868ms\tremaining: 2.62s\n",
      "249:\tlearn: 0.2742179\ttotal: 870ms\tremaining: 2.61s\n",
      "250:\tlearn: 0.2738591\ttotal: 872ms\tremaining: 2.6s\n",
      "251:\tlearn: 0.2733069\ttotal: 873ms\tremaining: 2.59s\n",
      "252:\tlearn: 0.2728840\ttotal: 875ms\tremaining: 2.58s\n",
      "253:\tlearn: 0.2720605\ttotal: 880ms\tremaining: 2.58s\n",
      "254:\tlearn: 0.2716678\ttotal: 883ms\tremaining: 2.58s\n",
      "255:\tlearn: 0.2712186\ttotal: 885ms\tremaining: 2.57s\n",
      "256:\tlearn: 0.2704293\ttotal: 887ms\tremaining: 2.56s\n",
      "257:\tlearn: 0.2698283\ttotal: 888ms\tremaining: 2.55s\n",
      "258:\tlearn: 0.2689554\ttotal: 890ms\tremaining: 2.55s\n",
      "259:\tlearn: 0.2681385\ttotal: 892ms\tremaining: 2.54s\n",
      "260:\tlearn: 0.2672812\ttotal: 895ms\tremaining: 2.53s\n",
      "261:\tlearn: 0.2663268\ttotal: 896ms\tremaining: 2.52s\n",
      "262:\tlearn: 0.2658042\ttotal: 898ms\tremaining: 2.52s\n",
      "263:\tlearn: 0.2655409\ttotal: 900ms\tremaining: 2.51s\n",
      "264:\tlearn: 0.2651005\ttotal: 902ms\tremaining: 2.5s\n",
      "265:\tlearn: 0.2643337\ttotal: 904ms\tremaining: 2.49s\n",
      "266:\tlearn: 0.2639881\ttotal: 906ms\tremaining: 2.48s\n",
      "267:\tlearn: 0.2631260\ttotal: 908ms\tremaining: 2.48s\n",
      "268:\tlearn: 0.2628170\ttotal: 910ms\tremaining: 2.47s\n",
      "269:\tlearn: 0.2620311\ttotal: 912ms\tremaining: 2.47s\n",
      "270:\tlearn: 0.2616142\ttotal: 914ms\tremaining: 2.46s\n",
      "271:\tlearn: 0.2611155\ttotal: 915ms\tremaining: 2.45s\n",
      "272:\tlearn: 0.2606188\ttotal: 917ms\tremaining: 2.44s\n",
      "273:\tlearn: 0.2601668\ttotal: 919ms\tremaining: 2.44s\n",
      "274:\tlearn: 0.2596201\ttotal: 921ms\tremaining: 2.43s\n",
      "275:\tlearn: 0.2591560\ttotal: 924ms\tremaining: 2.42s\n",
      "276:\tlearn: 0.2584995\ttotal: 925ms\tremaining: 2.42s\n",
      "277:\tlearn: 0.2580588\ttotal: 927ms\tremaining: 2.41s\n",
      "278:\tlearn: 0.2576085\ttotal: 929ms\tremaining: 2.4s\n",
      "279:\tlearn: 0.2570077\ttotal: 930ms\tremaining: 2.39s\n",
      "280:\tlearn: 0.2563395\ttotal: 932ms\tremaining: 2.38s\n",
      "281:\tlearn: 0.2556090\ttotal: 934ms\tremaining: 2.38s\n",
      "282:\tlearn: 0.2552720\ttotal: 935ms\tremaining: 2.37s\n",
      "283:\tlearn: 0.2547288\ttotal: 938ms\tremaining: 2.37s\n",
      "284:\tlearn: 0.2541910\ttotal: 940ms\tremaining: 2.36s\n",
      "285:\tlearn: 0.2536479\ttotal: 942ms\tremaining: 2.35s\n",
      "286:\tlearn: 0.2532387\ttotal: 943ms\tremaining: 2.34s\n",
      "287:\tlearn: 0.2527032\ttotal: 945ms\tremaining: 2.34s\n",
      "288:\tlearn: 0.2522155\ttotal: 947ms\tremaining: 2.33s\n",
      "289:\tlearn: 0.2514257\ttotal: 949ms\tremaining: 2.32s\n",
      "290:\tlearn: 0.2506800\ttotal: 950ms\tremaining: 2.31s\n",
      "291:\tlearn: 0.2503248\ttotal: 953ms\tremaining: 2.31s\n",
      "292:\tlearn: 0.2496941\ttotal: 955ms\tremaining: 2.3s\n",
      "293:\tlearn: 0.2490363\ttotal: 956ms\tremaining: 2.3s\n",
      "294:\tlearn: 0.2483847\ttotal: 958ms\tremaining: 2.29s\n",
      "295:\tlearn: 0.2479557\ttotal: 960ms\tremaining: 2.28s\n",
      "296:\tlearn: 0.2477056\ttotal: 961ms\tremaining: 2.27s\n",
      "297:\tlearn: 0.2470968\ttotal: 963ms\tremaining: 2.27s\n",
      "298:\tlearn: 0.2468044\ttotal: 965ms\tremaining: 2.26s\n",
      "299:\tlearn: 0.2463109\ttotal: 967ms\tremaining: 2.26s\n",
      "300:\tlearn: 0.2458843\ttotal: 969ms\tremaining: 2.25s\n",
      "301:\tlearn: 0.2452632\ttotal: 970ms\tremaining: 2.24s\n",
      "302:\tlearn: 0.2447438\ttotal: 972ms\tremaining: 2.24s\n",
      "303:\tlearn: 0.2442615\ttotal: 974ms\tremaining: 2.23s\n",
      "304:\tlearn: 0.2438144\ttotal: 976ms\tremaining: 2.22s\n",
      "305:\tlearn: 0.2432697\ttotal: 977ms\tremaining: 2.22s\n",
      "306:\tlearn: 0.2428933\ttotal: 980ms\tremaining: 2.21s\n",
      "307:\tlearn: 0.2425797\ttotal: 982ms\tremaining: 2.21s\n",
      "308:\tlearn: 0.2417729\ttotal: 983ms\tremaining: 2.2s\n",
      "309:\tlearn: 0.2412540\ttotal: 986ms\tremaining: 2.19s\n",
      "310:\tlearn: 0.2407363\ttotal: 989ms\tremaining: 2.19s\n",
      "311:\tlearn: 0.2401641\ttotal: 991ms\tremaining: 2.19s\n",
      "312:\tlearn: 0.2395770\ttotal: 993ms\tremaining: 2.18s\n",
      "313:\tlearn: 0.2389721\ttotal: 996ms\tremaining: 2.18s\n",
      "314:\tlearn: 0.2381910\ttotal: 999ms\tremaining: 2.17s\n",
      "315:\tlearn: 0.2376943\ttotal: 1s\tremaining: 2.17s\n",
      "316:\tlearn: 0.2370732\ttotal: 1s\tremaining: 2.16s\n",
      "317:\tlearn: 0.2365279\ttotal: 1.01s\tremaining: 2.16s\n",
      "318:\tlearn: 0.2358557\ttotal: 1.01s\tremaining: 2.15s\n",
      "319:\tlearn: 0.2353774\ttotal: 1.01s\tremaining: 2.15s\n",
      "320:\tlearn: 0.2349023\ttotal: 1.01s\tremaining: 2.14s\n",
      "321:\tlearn: 0.2341468\ttotal: 1.01s\tremaining: 2.13s\n",
      "322:\tlearn: 0.2335323\ttotal: 1.01s\tremaining: 2.13s\n",
      "323:\tlearn: 0.2327555\ttotal: 1.02s\tremaining: 2.12s\n",
      "324:\tlearn: 0.2322004\ttotal: 1.02s\tremaining: 2.12s\n",
      "325:\tlearn: 0.2317918\ttotal: 1.02s\tremaining: 2.11s\n",
      "326:\tlearn: 0.2311867\ttotal: 1.02s\tremaining: 2.1s\n",
      "327:\tlearn: 0.2308621\ttotal: 1.02s\tremaining: 2.1s\n",
      "328:\tlearn: 0.2303809\ttotal: 1.03s\tremaining: 2.09s\n",
      "329:\tlearn: 0.2299197\ttotal: 1.03s\tremaining: 2.09s\n",
      "330:\tlearn: 0.2292397\ttotal: 1.03s\tremaining: 2.08s\n",
      "331:\tlearn: 0.2287839\ttotal: 1.03s\tremaining: 2.08s\n",
      "332:\tlearn: 0.2285503\ttotal: 1.03s\tremaining: 2.07s\n",
      "333:\tlearn: 0.2280901\ttotal: 1.04s\tremaining: 2.07s\n",
      "334:\tlearn: 0.2273038\ttotal: 1.04s\tremaining: 2.06s\n",
      "335:\tlearn: 0.2267321\ttotal: 1.04s\tremaining: 2.06s\n",
      "336:\tlearn: 0.2263517\ttotal: 1.04s\tremaining: 2.05s\n",
      "337:\tlearn: 0.2260974\ttotal: 1.04s\tremaining: 2.04s\n",
      "338:\tlearn: 0.2254879\ttotal: 1.04s\tremaining: 2.04s\n",
      "339:\tlearn: 0.2248884\ttotal: 1.05s\tremaining: 2.03s\n",
      "340:\tlearn: 0.2246073\ttotal: 1.05s\tremaining: 2.03s\n",
      "341:\tlearn: 0.2240303\ttotal: 1.05s\tremaining: 2.02s\n",
      "342:\tlearn: 0.2235576\ttotal: 1.05s\tremaining: 2.02s\n",
      "343:\tlearn: 0.2232770\ttotal: 1.05s\tremaining: 2.01s\n",
      "344:\tlearn: 0.2227619\ttotal: 1.06s\tremaining: 2s\n",
      "345:\tlearn: 0.2223102\ttotal: 1.06s\tremaining: 2s\n",
      "346:\tlearn: 0.2219571\ttotal: 1.06s\tremaining: 1.99s\n",
      "347:\tlearn: 0.2216554\ttotal: 1.06s\tremaining: 1.99s\n",
      "348:\tlearn: 0.2211333\ttotal: 1.06s\tremaining: 1.98s\n",
      "349:\tlearn: 0.2205651\ttotal: 1.06s\tremaining: 1.98s\n",
      "350:\tlearn: 0.2200259\ttotal: 1.07s\tremaining: 1.97s\n",
      "351:\tlearn: 0.2194377\ttotal: 1.07s\tremaining: 1.97s\n",
      "352:\tlearn: 0.2191227\ttotal: 1.07s\tremaining: 1.96s\n",
      "353:\tlearn: 0.2186445\ttotal: 1.07s\tremaining: 1.96s\n",
      "354:\tlearn: 0.2180231\ttotal: 1.07s\tremaining: 1.95s\n",
      "355:\tlearn: 0.2175426\ttotal: 1.07s\tremaining: 1.95s\n",
      "356:\tlearn: 0.2172970\ttotal: 1.08s\tremaining: 1.94s\n",
      "357:\tlearn: 0.2170760\ttotal: 1.08s\tremaining: 1.93s\n",
      "358:\tlearn: 0.2165912\ttotal: 1.08s\tremaining: 1.93s\n",
      "359:\tlearn: 0.2162033\ttotal: 1.08s\tremaining: 1.92s\n",
      "360:\tlearn: 0.2157084\ttotal: 1.08s\tremaining: 1.92s\n",
      "361:\tlearn: 0.2153293\ttotal: 1.09s\tremaining: 1.91s\n",
      "362:\tlearn: 0.2147854\ttotal: 1.09s\tremaining: 1.91s\n",
      "363:\tlearn: 0.2140796\ttotal: 1.09s\tremaining: 1.9s\n",
      "364:\tlearn: 0.2136405\ttotal: 1.09s\tremaining: 1.9s\n",
      "365:\tlearn: 0.2130959\ttotal: 1.09s\tremaining: 1.89s\n",
      "366:\tlearn: 0.2128418\ttotal: 1.09s\tremaining: 1.89s\n",
      "367:\tlearn: 0.2124494\ttotal: 1.1s\tremaining: 1.89s\n",
      "368:\tlearn: 0.2121256\ttotal: 1.1s\tremaining: 1.88s\n",
      "369:\tlearn: 0.2117920\ttotal: 1.1s\tremaining: 1.88s\n",
      "370:\tlearn: 0.2113945\ttotal: 1.1s\tremaining: 1.87s\n",
      "371:\tlearn: 0.2107507\ttotal: 1.1s\tremaining: 1.86s\n",
      "372:\tlearn: 0.2104696\ttotal: 1.11s\tremaining: 1.86s\n",
      "373:\tlearn: 0.2099457\ttotal: 1.11s\tremaining: 1.85s\n",
      "374:\tlearn: 0.2096207\ttotal: 1.11s\tremaining: 1.85s\n",
      "375:\tlearn: 0.2093230\ttotal: 1.11s\tremaining: 1.85s\n",
      "376:\tlearn: 0.2091017\ttotal: 1.11s\tremaining: 1.84s\n",
      "377:\tlearn: 0.2087894\ttotal: 1.12s\tremaining: 1.84s\n",
      "378:\tlearn: 0.2085285\ttotal: 1.12s\tremaining: 1.83s\n",
      "379:\tlearn: 0.2082357\ttotal: 1.12s\tremaining: 1.83s\n",
      "380:\tlearn: 0.2077474\ttotal: 1.12s\tremaining: 1.82s\n",
      "381:\tlearn: 0.2072308\ttotal: 1.12s\tremaining: 1.82s\n",
      "382:\tlearn: 0.2067280\ttotal: 1.12s\tremaining: 1.81s\n",
      "383:\tlearn: 0.2061364\ttotal: 1.13s\tremaining: 1.81s\n",
      "384:\tlearn: 0.2055928\ttotal: 1.13s\tremaining: 1.8s\n",
      "385:\tlearn: 0.2052510\ttotal: 1.13s\tremaining: 1.8s\n",
      "386:\tlearn: 0.2049669\ttotal: 1.13s\tremaining: 1.79s\n",
      "387:\tlearn: 0.2047673\ttotal: 1.13s\tremaining: 1.79s\n",
      "388:\tlearn: 0.2044177\ttotal: 1.14s\tremaining: 1.78s\n",
      "389:\tlearn: 0.2039367\ttotal: 1.14s\tremaining: 1.78s\n",
      "390:\tlearn: 0.2035954\ttotal: 1.14s\tremaining: 1.77s\n",
      "391:\tlearn: 0.2030236\ttotal: 1.14s\tremaining: 1.77s\n",
      "392:\tlearn: 0.2025569\ttotal: 1.14s\tremaining: 1.77s\n",
      "393:\tlearn: 0.2019552\ttotal: 1.15s\tremaining: 1.76s\n"
     ]
    },
    {
     "name": "stdout",
     "output_type": "stream",
     "text": [
      "394:\tlearn: 0.2015854\ttotal: 1.15s\tremaining: 1.76s\n",
      "395:\tlearn: 0.2012391\ttotal: 1.15s\tremaining: 1.76s\n",
      "396:\tlearn: 0.2010174\ttotal: 1.16s\tremaining: 1.76s\n",
      "397:\tlearn: 0.2007095\ttotal: 1.16s\tremaining: 1.75s\n",
      "398:\tlearn: 0.2005678\ttotal: 1.16s\tremaining: 1.75s\n",
      "399:\tlearn: 0.2002579\ttotal: 1.17s\tremaining: 1.75s\n",
      "400:\tlearn: 0.1998943\ttotal: 1.17s\tremaining: 1.75s\n",
      "401:\tlearn: 0.1996599\ttotal: 1.18s\tremaining: 1.75s\n",
      "402:\tlearn: 0.1992061\ttotal: 1.18s\tremaining: 1.75s\n",
      "403:\tlearn: 0.1986818\ttotal: 1.18s\tremaining: 1.74s\n",
      "404:\tlearn: 0.1984069\ttotal: 1.19s\tremaining: 1.74s\n",
      "405:\tlearn: 0.1980875\ttotal: 1.19s\tremaining: 1.74s\n",
      "406:\tlearn: 0.1977796\ttotal: 1.19s\tremaining: 1.74s\n",
      "407:\tlearn: 0.1975135\ttotal: 1.2s\tremaining: 1.74s\n",
      "408:\tlearn: 0.1972413\ttotal: 1.2s\tremaining: 1.73s\n",
      "409:\tlearn: 0.1968336\ttotal: 1.2s\tremaining: 1.73s\n",
      "410:\tlearn: 0.1965581\ttotal: 1.21s\tremaining: 1.73s\n",
      "411:\tlearn: 0.1961829\ttotal: 1.21s\tremaining: 1.73s\n",
      "412:\tlearn: 0.1958440\ttotal: 1.21s\tremaining: 1.72s\n",
      "413:\tlearn: 0.1953654\ttotal: 1.22s\tremaining: 1.72s\n",
      "414:\tlearn: 0.1949573\ttotal: 1.22s\tremaining: 1.72s\n",
      "415:\tlearn: 0.1944470\ttotal: 1.22s\tremaining: 1.72s\n",
      "416:\tlearn: 0.1940430\ttotal: 1.23s\tremaining: 1.72s\n",
      "417:\tlearn: 0.1935857\ttotal: 1.23s\tremaining: 1.72s\n",
      "418:\tlearn: 0.1929689\ttotal: 1.24s\tremaining: 1.71s\n",
      "419:\tlearn: 0.1927750\ttotal: 1.24s\tremaining: 1.71s\n",
      "420:\tlearn: 0.1924646\ttotal: 1.24s\tremaining: 1.71s\n",
      "421:\tlearn: 0.1921697\ttotal: 1.24s\tremaining: 1.7s\n",
      "422:\tlearn: 0.1918910\ttotal: 1.25s\tremaining: 1.7s\n",
      "423:\tlearn: 0.1913849\ttotal: 1.25s\tremaining: 1.69s\n",
      "424:\tlearn: 0.1909051\ttotal: 1.25s\tremaining: 1.69s\n",
      "425:\tlearn: 0.1904197\ttotal: 1.25s\tremaining: 1.69s\n",
      "426:\tlearn: 0.1902006\ttotal: 1.25s\tremaining: 1.69s\n",
      "427:\tlearn: 0.1900030\ttotal: 1.26s\tremaining: 1.68s\n",
      "428:\tlearn: 0.1898603\ttotal: 1.26s\tremaining: 1.68s\n",
      "429:\tlearn: 0.1895648\ttotal: 1.26s\tremaining: 1.67s\n",
      "430:\tlearn: 0.1894102\ttotal: 1.26s\tremaining: 1.67s\n",
      "431:\tlearn: 0.1887895\ttotal: 1.27s\tremaining: 1.67s\n",
      "432:\tlearn: 0.1884050\ttotal: 1.27s\tremaining: 1.66s\n",
      "433:\tlearn: 0.1878446\ttotal: 1.27s\tremaining: 1.66s\n",
      "434:\tlearn: 0.1874885\ttotal: 1.27s\tremaining: 1.66s\n",
      "435:\tlearn: 0.1870539\ttotal: 1.28s\tremaining: 1.65s\n",
      "436:\tlearn: 0.1866673\ttotal: 1.28s\tremaining: 1.65s\n",
      "437:\tlearn: 0.1864286\ttotal: 1.28s\tremaining: 1.65s\n",
      "438:\tlearn: 0.1859754\ttotal: 1.29s\tremaining: 1.64s\n",
      "439:\tlearn: 0.1855886\ttotal: 1.29s\tremaining: 1.64s\n",
      "440:\tlearn: 0.1852712\ttotal: 1.29s\tremaining: 1.64s\n",
      "441:\tlearn: 0.1848671\ttotal: 1.29s\tremaining: 1.63s\n",
      "442:\tlearn: 0.1846088\ttotal: 1.3s\tremaining: 1.63s\n",
      "443:\tlearn: 0.1843153\ttotal: 1.3s\tremaining: 1.63s\n",
      "444:\tlearn: 0.1840019\ttotal: 1.3s\tremaining: 1.63s\n",
      "445:\tlearn: 0.1837459\ttotal: 1.31s\tremaining: 1.63s\n",
      "446:\tlearn: 0.1834264\ttotal: 1.31s\tremaining: 1.62s\n",
      "447:\tlearn: 0.1831206\ttotal: 1.31s\tremaining: 1.62s\n",
      "448:\tlearn: 0.1828698\ttotal: 1.32s\tremaining: 1.62s\n",
      "449:\tlearn: 0.1823712\ttotal: 1.32s\tremaining: 1.61s\n",
      "450:\tlearn: 0.1820308\ttotal: 1.32s\tremaining: 1.61s\n",
      "451:\tlearn: 0.1817252\ttotal: 1.32s\tremaining: 1.61s\n",
      "452:\tlearn: 0.1812442\ttotal: 1.33s\tremaining: 1.6s\n",
      "453:\tlearn: 0.1808910\ttotal: 1.33s\tremaining: 1.6s\n",
      "454:\tlearn: 0.1805901\ttotal: 1.33s\tremaining: 1.6s\n",
      "455:\tlearn: 0.1802922\ttotal: 1.34s\tremaining: 1.59s\n",
      "456:\tlearn: 0.1798422\ttotal: 1.34s\tremaining: 1.59s\n",
      "457:\tlearn: 0.1795455\ttotal: 1.34s\tremaining: 1.59s\n",
      "458:\tlearn: 0.1792338\ttotal: 1.34s\tremaining: 1.58s\n",
      "459:\tlearn: 0.1789936\ttotal: 1.35s\tremaining: 1.58s\n",
      "460:\tlearn: 0.1785017\ttotal: 1.35s\tremaining: 1.58s\n",
      "461:\tlearn: 0.1783266\ttotal: 1.35s\tremaining: 1.57s\n",
      "462:\tlearn: 0.1780642\ttotal: 1.35s\tremaining: 1.57s\n",
      "463:\tlearn: 0.1779281\ttotal: 1.36s\tremaining: 1.57s\n",
      "464:\tlearn: 0.1776354\ttotal: 1.36s\tremaining: 1.56s\n",
      "465:\tlearn: 0.1773519\ttotal: 1.36s\tremaining: 1.56s\n",
      "466:\tlearn: 0.1770286\ttotal: 1.36s\tremaining: 1.55s\n",
      "467:\tlearn: 0.1767160\ttotal: 1.36s\tremaining: 1.55s\n",
      "468:\tlearn: 0.1764660\ttotal: 1.37s\tremaining: 1.55s\n",
      "469:\tlearn: 0.1762331\ttotal: 1.37s\tremaining: 1.54s\n",
      "470:\tlearn: 0.1760492\ttotal: 1.37s\tremaining: 1.54s\n",
      "471:\tlearn: 0.1757576\ttotal: 1.37s\tremaining: 1.54s\n",
      "472:\tlearn: 0.1754108\ttotal: 1.38s\tremaining: 1.53s\n",
      "473:\tlearn: 0.1750670\ttotal: 1.38s\tremaining: 1.53s\n",
      "474:\tlearn: 0.1746560\ttotal: 1.38s\tremaining: 1.53s\n",
      "475:\tlearn: 0.1744955\ttotal: 1.38s\tremaining: 1.52s\n",
      "476:\tlearn: 0.1741196\ttotal: 1.39s\tremaining: 1.52s\n",
      "477:\tlearn: 0.1738053\ttotal: 1.39s\tremaining: 1.51s\n",
      "478:\tlearn: 0.1735679\ttotal: 1.39s\tremaining: 1.51s\n",
      "479:\tlearn: 0.1733646\ttotal: 1.39s\tremaining: 1.51s\n",
      "480:\tlearn: 0.1730506\ttotal: 1.4s\tremaining: 1.5s\n",
      "481:\tlearn: 0.1725112\ttotal: 1.4s\tremaining: 1.5s\n",
      "482:\tlearn: 0.1719445\ttotal: 1.4s\tremaining: 1.5s\n",
      "483:\tlearn: 0.1716084\ttotal: 1.4s\tremaining: 1.49s\n",
      "484:\tlearn: 0.1713854\ttotal: 1.4s\tremaining: 1.49s\n",
      "485:\tlearn: 0.1712314\ttotal: 1.41s\tremaining: 1.49s\n",
      "486:\tlearn: 0.1709173\ttotal: 1.41s\tremaining: 1.48s\n",
      "487:\tlearn: 0.1705641\ttotal: 1.41s\tremaining: 1.48s\n",
      "488:\tlearn: 0.1701826\ttotal: 1.41s\tremaining: 1.48s\n",
      "489:\tlearn: 0.1699869\ttotal: 1.42s\tremaining: 1.47s\n",
      "490:\tlearn: 0.1697247\ttotal: 1.42s\tremaining: 1.47s\n",
      "491:\tlearn: 0.1693086\ttotal: 1.42s\tremaining: 1.46s\n",
      "492:\tlearn: 0.1690889\ttotal: 1.42s\tremaining: 1.46s\n",
      "493:\tlearn: 0.1688944\ttotal: 1.42s\tremaining: 1.46s\n",
      "494:\tlearn: 0.1685305\ttotal: 1.43s\tremaining: 1.46s\n",
      "495:\tlearn: 0.1681445\ttotal: 1.43s\tremaining: 1.45s\n",
      "496:\tlearn: 0.1679191\ttotal: 1.43s\tremaining: 1.45s\n",
      "497:\tlearn: 0.1674642\ttotal: 1.43s\tremaining: 1.45s\n",
      "498:\tlearn: 0.1672324\ttotal: 1.44s\tremaining: 1.44s\n",
      "499:\tlearn: 0.1667875\ttotal: 1.44s\tremaining: 1.44s\n",
      "500:\tlearn: 0.1664956\ttotal: 1.44s\tremaining: 1.44s\n",
      "501:\tlearn: 0.1661848\ttotal: 1.44s\tremaining: 1.43s\n",
      "502:\tlearn: 0.1656663\ttotal: 1.45s\tremaining: 1.43s\n",
      "503:\tlearn: 0.1652023\ttotal: 1.45s\tremaining: 1.43s\n",
      "504:\tlearn: 0.1649625\ttotal: 1.45s\tremaining: 1.42s\n",
      "505:\tlearn: 0.1645325\ttotal: 1.45s\tremaining: 1.42s\n",
      "506:\tlearn: 0.1641370\ttotal: 1.46s\tremaining: 1.42s\n",
      "507:\tlearn: 0.1637487\ttotal: 1.46s\tremaining: 1.41s\n",
      "508:\tlearn: 0.1634227\ttotal: 1.46s\tremaining: 1.41s\n",
      "509:\tlearn: 0.1632324\ttotal: 1.46s\tremaining: 1.4s\n",
      "510:\tlearn: 0.1630884\ttotal: 1.46s\tremaining: 1.4s\n",
      "511:\tlearn: 0.1627421\ttotal: 1.47s\tremaining: 1.4s\n",
      "512:\tlearn: 0.1625736\ttotal: 1.47s\tremaining: 1.4s\n",
      "513:\tlearn: 0.1623112\ttotal: 1.47s\tremaining: 1.39s\n",
      "514:\tlearn: 0.1620451\ttotal: 1.48s\tremaining: 1.39s\n",
      "515:\tlearn: 0.1617845\ttotal: 1.48s\tremaining: 1.39s\n",
      "516:\tlearn: 0.1616598\ttotal: 1.48s\tremaining: 1.38s\n",
      "517:\tlearn: 0.1611716\ttotal: 1.48s\tremaining: 1.38s\n",
      "518:\tlearn: 0.1610635\ttotal: 1.48s\tremaining: 1.38s\n",
      "519:\tlearn: 0.1607369\ttotal: 1.49s\tremaining: 1.37s\n",
      "520:\tlearn: 0.1603608\ttotal: 1.49s\tremaining: 1.37s\n",
      "521:\tlearn: 0.1600711\ttotal: 1.49s\tremaining: 1.36s\n",
      "522:\tlearn: 0.1598468\ttotal: 1.49s\tremaining: 1.36s\n",
      "523:\tlearn: 0.1596172\ttotal: 1.5s\tremaining: 1.36s\n",
      "524:\tlearn: 0.1594488\ttotal: 1.5s\tremaining: 1.36s\n",
      "525:\tlearn: 0.1590599\ttotal: 1.5s\tremaining: 1.35s\n",
      "526:\tlearn: 0.1587393\ttotal: 1.5s\tremaining: 1.35s\n",
      "527:\tlearn: 0.1584620\ttotal: 1.5s\tremaining: 1.34s\n",
      "528:\tlearn: 0.1583438\ttotal: 1.51s\tremaining: 1.34s\n",
      "529:\tlearn: 0.1581791\ttotal: 1.51s\tremaining: 1.34s\n",
      "530:\tlearn: 0.1579093\ttotal: 1.51s\tremaining: 1.34s\n",
      "531:\tlearn: 0.1575927\ttotal: 1.51s\tremaining: 1.33s\n",
      "532:\tlearn: 0.1572936\ttotal: 1.52s\tremaining: 1.33s\n",
      "533:\tlearn: 0.1572082\ttotal: 1.52s\tremaining: 1.32s\n",
      "534:\tlearn: 0.1569484\ttotal: 1.52s\tremaining: 1.32s\n",
      "535:\tlearn: 0.1567123\ttotal: 1.52s\tremaining: 1.32s\n",
      "536:\tlearn: 0.1564759\ttotal: 1.52s\tremaining: 1.31s\n",
      "537:\tlearn: 0.1563522\ttotal: 1.52s\tremaining: 1.31s\n",
      "538:\tlearn: 0.1561196\ttotal: 1.53s\tremaining: 1.31s\n",
      "539:\tlearn: 0.1558621\ttotal: 1.53s\tremaining: 1.3s\n",
      "540:\tlearn: 0.1557228\ttotal: 1.53s\tremaining: 1.3s\n",
      "541:\tlearn: 0.1553743\ttotal: 1.53s\tremaining: 1.29s\n",
      "542:\tlearn: 0.1552254\ttotal: 1.53s\tremaining: 1.29s\n",
      "543:\tlearn: 0.1549427\ttotal: 1.54s\tremaining: 1.29s\n",
      "544:\tlearn: 0.1547502\ttotal: 1.54s\tremaining: 1.28s\n",
      "545:\tlearn: 0.1544960\ttotal: 1.54s\tremaining: 1.28s\n",
      "546:\tlearn: 0.1540205\ttotal: 1.54s\tremaining: 1.28s\n",
      "547:\tlearn: 0.1536643\ttotal: 1.54s\tremaining: 1.27s\n",
      "548:\tlearn: 0.1532082\ttotal: 1.55s\tremaining: 1.27s\n",
      "549:\tlearn: 0.1528187\ttotal: 1.55s\tremaining: 1.27s\n",
      "550:\tlearn: 0.1527023\ttotal: 1.55s\tremaining: 1.26s\n",
      "551:\tlearn: 0.1525487\ttotal: 1.55s\tremaining: 1.26s\n",
      "552:\tlearn: 0.1522053\ttotal: 1.55s\tremaining: 1.26s\n",
      "553:\tlearn: 0.1520080\ttotal: 1.56s\tremaining: 1.25s\n",
      "554:\tlearn: 0.1517868\ttotal: 1.56s\tremaining: 1.25s\n",
      "555:\tlearn: 0.1514007\ttotal: 1.56s\tremaining: 1.25s\n",
      "556:\tlearn: 0.1512653\ttotal: 1.56s\tremaining: 1.24s\n",
      "557:\tlearn: 0.1509276\ttotal: 1.56s\tremaining: 1.24s\n",
      "558:\tlearn: 0.1506877\ttotal: 1.57s\tremaining: 1.24s\n",
      "559:\tlearn: 0.1505183\ttotal: 1.57s\tremaining: 1.23s\n",
      "560:\tlearn: 0.1503813\ttotal: 1.57s\tremaining: 1.23s\n",
      "561:\tlearn: 0.1500902\ttotal: 1.57s\tremaining: 1.23s\n",
      "562:\tlearn: 0.1499166\ttotal: 1.57s\tremaining: 1.22s\n",
      "563:\tlearn: 0.1495856\ttotal: 1.58s\tremaining: 1.22s\n",
      "564:\tlearn: 0.1492983\ttotal: 1.58s\tremaining: 1.22s\n",
      "565:\tlearn: 0.1491331\ttotal: 1.58s\tremaining: 1.21s\n",
      "566:\tlearn: 0.1489220\ttotal: 1.58s\tremaining: 1.21s\n",
      "567:\tlearn: 0.1485413\ttotal: 1.58s\tremaining: 1.21s\n",
      "568:\tlearn: 0.1483593\ttotal: 1.59s\tremaining: 1.2s\n",
      "569:\tlearn: 0.1480384\ttotal: 1.59s\tremaining: 1.2s\n",
      "570:\tlearn: 0.1477024\ttotal: 1.59s\tremaining: 1.19s\n",
      "571:\tlearn: 0.1475724\ttotal: 1.59s\tremaining: 1.19s\n",
      "572:\tlearn: 0.1471736\ttotal: 1.59s\tremaining: 1.19s\n",
      "573:\tlearn: 0.1470113\ttotal: 1.6s\tremaining: 1.19s\n",
      "574:\tlearn: 0.1468244\ttotal: 1.6s\tremaining: 1.18s\n",
      "575:\tlearn: 0.1465327\ttotal: 1.6s\tremaining: 1.18s\n",
      "576:\tlearn: 0.1462807\ttotal: 1.6s\tremaining: 1.18s\n",
      "577:\tlearn: 0.1461265\ttotal: 1.61s\tremaining: 1.17s\n",
      "578:\tlearn: 0.1459491\ttotal: 1.61s\tremaining: 1.17s\n",
      "579:\tlearn: 0.1456234\ttotal: 1.61s\tremaining: 1.17s\n",
      "580:\tlearn: 0.1452827\ttotal: 1.61s\tremaining: 1.16s\n",
      "581:\tlearn: 0.1449015\ttotal: 1.62s\tremaining: 1.16s\n",
      "582:\tlearn: 0.1447215\ttotal: 1.62s\tremaining: 1.16s\n",
      "583:\tlearn: 0.1445439\ttotal: 1.62s\tremaining: 1.15s\n",
      "584:\tlearn: 0.1443960\ttotal: 1.62s\tremaining: 1.15s\n",
      "585:\tlearn: 0.1442116\ttotal: 1.63s\tremaining: 1.15s\n",
      "586:\tlearn: 0.1439803\ttotal: 1.63s\tremaining: 1.15s\n"
     ]
    },
    {
     "name": "stdout",
     "output_type": "stream",
     "text": [
      "587:\tlearn: 0.1438916\ttotal: 1.63s\tremaining: 1.14s\n",
      "588:\tlearn: 0.1436794\ttotal: 1.64s\tremaining: 1.14s\n",
      "589:\tlearn: 0.1432689\ttotal: 1.64s\tremaining: 1.14s\n",
      "590:\tlearn: 0.1431750\ttotal: 1.64s\tremaining: 1.14s\n",
      "591:\tlearn: 0.1429160\ttotal: 1.64s\tremaining: 1.13s\n",
      "592:\tlearn: 0.1426660\ttotal: 1.65s\tremaining: 1.13s\n",
      "593:\tlearn: 0.1425141\ttotal: 1.65s\tremaining: 1.13s\n",
      "594:\tlearn: 0.1422124\ttotal: 1.65s\tremaining: 1.12s\n",
      "595:\tlearn: 0.1420897\ttotal: 1.65s\tremaining: 1.12s\n",
      "596:\tlearn: 0.1417095\ttotal: 1.66s\tremaining: 1.12s\n",
      "597:\tlearn: 0.1415260\ttotal: 1.66s\tremaining: 1.11s\n",
      "598:\tlearn: 0.1412886\ttotal: 1.66s\tremaining: 1.11s\n",
      "599:\tlearn: 0.1410842\ttotal: 1.66s\tremaining: 1.11s\n",
      "600:\tlearn: 0.1406774\ttotal: 1.67s\tremaining: 1.11s\n",
      "601:\tlearn: 0.1404467\ttotal: 1.67s\tremaining: 1.1s\n",
      "602:\tlearn: 0.1402534\ttotal: 1.67s\tremaining: 1.1s\n",
      "603:\tlearn: 0.1401297\ttotal: 1.67s\tremaining: 1.1s\n",
      "604:\tlearn: 0.1399617\ttotal: 1.67s\tremaining: 1.09s\n",
      "605:\tlearn: 0.1396195\ttotal: 1.68s\tremaining: 1.09s\n",
      "606:\tlearn: 0.1394086\ttotal: 1.68s\tremaining: 1.08s\n",
      "607:\tlearn: 0.1392467\ttotal: 1.68s\tremaining: 1.08s\n",
      "608:\tlearn: 0.1390134\ttotal: 1.68s\tremaining: 1.08s\n",
      "609:\tlearn: 0.1388938\ttotal: 1.68s\tremaining: 1.07s\n",
      "610:\tlearn: 0.1385790\ttotal: 1.69s\tremaining: 1.07s\n",
      "611:\tlearn: 0.1383265\ttotal: 1.69s\tremaining: 1.07s\n",
      "612:\tlearn: 0.1380469\ttotal: 1.69s\tremaining: 1.07s\n",
      "613:\tlearn: 0.1379125\ttotal: 1.69s\tremaining: 1.06s\n",
      "614:\tlearn: 0.1375342\ttotal: 1.69s\tremaining: 1.06s\n",
      "615:\tlearn: 0.1372380\ttotal: 1.69s\tremaining: 1.05s\n",
      "616:\tlearn: 0.1370537\ttotal: 1.7s\tremaining: 1.05s\n",
      "617:\tlearn: 0.1367528\ttotal: 1.7s\tremaining: 1.05s\n",
      "618:\tlearn: 0.1365843\ttotal: 1.7s\tremaining: 1.05s\n",
      "619:\tlearn: 0.1363563\ttotal: 1.7s\tremaining: 1.04s\n",
      "620:\tlearn: 0.1361721\ttotal: 1.7s\tremaining: 1.04s\n",
      "621:\tlearn: 0.1359510\ttotal: 1.71s\tremaining: 1.04s\n",
      "622:\tlearn: 0.1357653\ttotal: 1.71s\tremaining: 1.03s\n",
      "623:\tlearn: 0.1355575\ttotal: 1.71s\tremaining: 1.03s\n",
      "624:\tlearn: 0.1353214\ttotal: 1.71s\tremaining: 1.03s\n",
      "625:\tlearn: 0.1350786\ttotal: 1.71s\tremaining: 1.02s\n",
      "626:\tlearn: 0.1349035\ttotal: 1.71s\tremaining: 1.02s\n",
      "627:\tlearn: 0.1346436\ttotal: 1.72s\tremaining: 1.02s\n",
      "628:\tlearn: 0.1344505\ttotal: 1.72s\tremaining: 1.01s\n",
      "629:\tlearn: 0.1340730\ttotal: 1.72s\tremaining: 1.01s\n",
      "630:\tlearn: 0.1338332\ttotal: 1.72s\tremaining: 1.01s\n",
      "631:\tlearn: 0.1336446\ttotal: 1.72s\tremaining: 1s\n",
      "632:\tlearn: 0.1333946\ttotal: 1.72s\tremaining: 1000ms\n",
      "633:\tlearn: 0.1332800\ttotal: 1.73s\tremaining: 997ms\n",
      "634:\tlearn: 0.1330964\ttotal: 1.73s\tremaining: 994ms\n",
      "635:\tlearn: 0.1328566\ttotal: 1.73s\tremaining: 991ms\n",
      "636:\tlearn: 0.1327305\ttotal: 1.73s\tremaining: 987ms\n",
      "637:\tlearn: 0.1324283\ttotal: 1.73s\tremaining: 984ms\n",
      "638:\tlearn: 0.1321717\ttotal: 1.74s\tremaining: 981ms\n",
      "639:\tlearn: 0.1319696\ttotal: 1.74s\tremaining: 977ms\n",
      "640:\tlearn: 0.1318117\ttotal: 1.74s\tremaining: 974ms\n",
      "641:\tlearn: 0.1316816\ttotal: 1.74s\tremaining: 971ms\n",
      "642:\tlearn: 0.1314783\ttotal: 1.74s\tremaining: 968ms\n",
      "643:\tlearn: 0.1312782\ttotal: 1.74s\tremaining: 965ms\n",
      "644:\tlearn: 0.1309967\ttotal: 1.75s\tremaining: 961ms\n",
      "645:\tlearn: 0.1308366\ttotal: 1.75s\tremaining: 958ms\n",
      "646:\tlearn: 0.1305276\ttotal: 1.75s\tremaining: 956ms\n",
      "647:\tlearn: 0.1302274\ttotal: 1.75s\tremaining: 952ms\n",
      "648:\tlearn: 0.1300450\ttotal: 1.75s\tremaining: 949ms\n",
      "649:\tlearn: 0.1299426\ttotal: 1.76s\tremaining: 946ms\n",
      "650:\tlearn: 0.1297936\ttotal: 1.76s\tremaining: 943ms\n",
      "651:\tlearn: 0.1295979\ttotal: 1.76s\tremaining: 940ms\n",
      "652:\tlearn: 0.1293948\ttotal: 1.76s\tremaining: 937ms\n",
      "653:\tlearn: 0.1291178\ttotal: 1.76s\tremaining: 933ms\n",
      "654:\tlearn: 0.1288492\ttotal: 1.77s\tremaining: 930ms\n",
      "655:\tlearn: 0.1286583\ttotal: 1.77s\tremaining: 927ms\n",
      "656:\tlearn: 0.1284888\ttotal: 1.77s\tremaining: 924ms\n",
      "657:\tlearn: 0.1283556\ttotal: 1.77s\tremaining: 921ms\n",
      "658:\tlearn: 0.1280974\ttotal: 1.77s\tremaining: 917ms\n",
      "659:\tlearn: 0.1279991\ttotal: 1.77s\tremaining: 914ms\n",
      "660:\tlearn: 0.1277149\ttotal: 1.78s\tremaining: 911ms\n",
      "661:\tlearn: 0.1275807\ttotal: 1.78s\tremaining: 908ms\n",
      "662:\tlearn: 0.1272556\ttotal: 1.78s\tremaining: 905ms\n",
      "663:\tlearn: 0.1269260\ttotal: 1.78s\tremaining: 902ms\n",
      "664:\tlearn: 0.1268084\ttotal: 1.78s\tremaining: 899ms\n",
      "665:\tlearn: 0.1266378\ttotal: 1.79s\tremaining: 896ms\n",
      "666:\tlearn: 0.1264789\ttotal: 1.79s\tremaining: 893ms\n",
      "667:\tlearn: 0.1263466\ttotal: 1.79s\tremaining: 889ms\n",
      "668:\tlearn: 0.1261939\ttotal: 1.79s\tremaining: 886ms\n",
      "669:\tlearn: 0.1259826\ttotal: 1.79s\tremaining: 884ms\n",
      "670:\tlearn: 0.1259091\ttotal: 1.8s\tremaining: 881ms\n",
      "671:\tlearn: 0.1256632\ttotal: 1.8s\tremaining: 878ms\n",
      "672:\tlearn: 0.1255050\ttotal: 1.8s\tremaining: 875ms\n",
      "673:\tlearn: 0.1253728\ttotal: 1.8s\tremaining: 872ms\n",
      "674:\tlearn: 0.1252928\ttotal: 1.81s\tremaining: 870ms\n",
      "675:\tlearn: 0.1250930\ttotal: 1.81s\tremaining: 867ms\n",
      "676:\tlearn: 0.1249420\ttotal: 1.81s\tremaining: 864ms\n",
      "677:\tlearn: 0.1247627\ttotal: 1.81s\tremaining: 861ms\n",
      "678:\tlearn: 0.1246732\ttotal: 1.81s\tremaining: 858ms\n",
      "679:\tlearn: 0.1243160\ttotal: 1.82s\tremaining: 855ms\n",
      "680:\tlearn: 0.1241434\ttotal: 1.82s\tremaining: 852ms\n",
      "681:\tlearn: 0.1239453\ttotal: 1.82s\tremaining: 849ms\n",
      "682:\tlearn: 0.1238129\ttotal: 1.82s\tremaining: 846ms\n",
      "683:\tlearn: 0.1236737\ttotal: 1.82s\tremaining: 843ms\n",
      "684:\tlearn: 0.1234043\ttotal: 1.83s\tremaining: 840ms\n",
      "685:\tlearn: 0.1233053\ttotal: 1.83s\tremaining: 837ms\n",
      "686:\tlearn: 0.1231414\ttotal: 1.83s\tremaining: 834ms\n",
      "687:\tlearn: 0.1229838\ttotal: 1.83s\tremaining: 832ms\n",
      "688:\tlearn: 0.1228151\ttotal: 1.83s\tremaining: 829ms\n",
      "689:\tlearn: 0.1226606\ttotal: 1.84s\tremaining: 825ms\n",
      "690:\tlearn: 0.1225078\ttotal: 1.84s\tremaining: 822ms\n",
      "691:\tlearn: 0.1223378\ttotal: 1.84s\tremaining: 820ms\n",
      "692:\tlearn: 0.1221738\ttotal: 1.84s\tremaining: 817ms\n",
      "693:\tlearn: 0.1219534\ttotal: 1.84s\tremaining: 814ms\n",
      "694:\tlearn: 0.1217587\ttotal: 1.85s\tremaining: 811ms\n",
      "695:\tlearn: 0.1215676\ttotal: 1.85s\tremaining: 808ms\n",
      "696:\tlearn: 0.1214617\ttotal: 1.85s\tremaining: 805ms\n",
      "697:\tlearn: 0.1212868\ttotal: 1.85s\tremaining: 802ms\n",
      "698:\tlearn: 0.1211240\ttotal: 1.85s\tremaining: 799ms\n",
      "699:\tlearn: 0.1209920\ttotal: 1.86s\tremaining: 796ms\n",
      "700:\tlearn: 0.1208068\ttotal: 1.86s\tremaining: 793ms\n",
      "701:\tlearn: 0.1206258\ttotal: 1.86s\tremaining: 790ms\n",
      "702:\tlearn: 0.1203850\ttotal: 1.86s\tremaining: 787ms\n",
      "703:\tlearn: 0.1201687\ttotal: 1.86s\tremaining: 784ms\n",
      "704:\tlearn: 0.1200780\ttotal: 1.87s\tremaining: 781ms\n",
      "705:\tlearn: 0.1199567\ttotal: 1.87s\tremaining: 778ms\n",
      "706:\tlearn: 0.1196493\ttotal: 1.87s\tremaining: 775ms\n",
      "707:\tlearn: 0.1195020\ttotal: 1.87s\tremaining: 773ms\n",
      "708:\tlearn: 0.1193446\ttotal: 1.88s\tremaining: 770ms\n",
      "709:\tlearn: 0.1191369\ttotal: 1.88s\tremaining: 767ms\n",
      "710:\tlearn: 0.1188705\ttotal: 1.88s\tremaining: 764ms\n",
      "711:\tlearn: 0.1187173\ttotal: 1.88s\tremaining: 761ms\n",
      "712:\tlearn: 0.1186126\ttotal: 1.88s\tremaining: 758ms\n",
      "713:\tlearn: 0.1184789\ttotal: 1.88s\tremaining: 755ms\n",
      "714:\tlearn: 0.1182968\ttotal: 1.89s\tremaining: 752ms\n",
      "715:\tlearn: 0.1181666\ttotal: 1.89s\tremaining: 749ms\n",
      "716:\tlearn: 0.1180138\ttotal: 1.89s\tremaining: 746ms\n",
      "717:\tlearn: 0.1177812\ttotal: 1.89s\tremaining: 743ms\n",
      "718:\tlearn: 0.1176485\ttotal: 1.89s\tremaining: 740ms\n",
      "719:\tlearn: 0.1175117\ttotal: 1.9s\tremaining: 737ms\n",
      "720:\tlearn: 0.1174133\ttotal: 1.9s\tremaining: 734ms\n",
      "721:\tlearn: 0.1172509\ttotal: 1.9s\tremaining: 732ms\n",
      "722:\tlearn: 0.1171814\ttotal: 1.9s\tremaining: 729ms\n",
      "723:\tlearn: 0.1169869\ttotal: 1.9s\tremaining: 726ms\n",
      "724:\tlearn: 0.1168974\ttotal: 1.91s\tremaining: 723ms\n",
      "725:\tlearn: 0.1167823\ttotal: 1.91s\tremaining: 720ms\n",
      "726:\tlearn: 0.1165651\ttotal: 1.91s\tremaining: 717ms\n",
      "727:\tlearn: 0.1164083\ttotal: 1.91s\tremaining: 714ms\n",
      "728:\tlearn: 0.1162253\ttotal: 1.91s\tremaining: 711ms\n",
      "729:\tlearn: 0.1160430\ttotal: 1.92s\tremaining: 709ms\n",
      "730:\tlearn: 0.1159178\ttotal: 1.92s\tremaining: 706ms\n",
      "731:\tlearn: 0.1157930\ttotal: 1.92s\tremaining: 703ms\n",
      "732:\tlearn: 0.1156695\ttotal: 1.92s\tremaining: 700ms\n",
      "733:\tlearn: 0.1155727\ttotal: 1.92s\tremaining: 697ms\n",
      "734:\tlearn: 0.1153958\ttotal: 1.92s\tremaining: 694ms\n",
      "735:\tlearn: 0.1152698\ttotal: 1.93s\tremaining: 691ms\n",
      "736:\tlearn: 0.1150950\ttotal: 1.93s\tremaining: 688ms\n",
      "737:\tlearn: 0.1149654\ttotal: 1.93s\tremaining: 685ms\n",
      "738:\tlearn: 0.1147442\ttotal: 1.93s\tremaining: 683ms\n",
      "739:\tlearn: 0.1145593\ttotal: 1.93s\tremaining: 680ms\n",
      "740:\tlearn: 0.1143514\ttotal: 1.94s\tremaining: 677ms\n",
      "741:\tlearn: 0.1142461\ttotal: 1.94s\tremaining: 674ms\n",
      "742:\tlearn: 0.1141103\ttotal: 1.94s\tremaining: 671ms\n",
      "743:\tlearn: 0.1139282\ttotal: 1.94s\tremaining: 668ms\n",
      "744:\tlearn: 0.1138188\ttotal: 1.94s\tremaining: 666ms\n",
      "745:\tlearn: 0.1135741\ttotal: 1.95s\tremaining: 663ms\n",
      "746:\tlearn: 0.1134945\ttotal: 1.95s\tremaining: 660ms\n",
      "747:\tlearn: 0.1133305\ttotal: 1.95s\tremaining: 657ms\n",
      "748:\tlearn: 0.1131907\ttotal: 1.95s\tremaining: 654ms\n",
      "749:\tlearn: 0.1130586\ttotal: 1.95s\tremaining: 651ms\n"
     ]
    },
    {
     "name": "stdout",
     "output_type": "stream",
     "text": [
      "750:\tlearn: 0.1129085\ttotal: 1.96s\tremaining: 649ms\n",
      "751:\tlearn: 0.1127951\ttotal: 1.96s\tremaining: 646ms\n",
      "752:\tlearn: 0.1126620\ttotal: 1.96s\tremaining: 644ms\n",
      "753:\tlearn: 0.1124979\ttotal: 1.96s\tremaining: 641ms\n",
      "754:\tlearn: 0.1123771\ttotal: 1.97s\tremaining: 638ms\n",
      "755:\tlearn: 0.1122529\ttotal: 1.97s\tremaining: 636ms\n",
      "756:\tlearn: 0.1120217\ttotal: 1.97s\tremaining: 633ms\n",
      "757:\tlearn: 0.1118930\ttotal: 1.97s\tremaining: 631ms\n",
      "758:\tlearn: 0.1117080\ttotal: 1.98s\tremaining: 628ms\n",
      "759:\tlearn: 0.1115834\ttotal: 1.98s\tremaining: 626ms\n",
      "760:\tlearn: 0.1114029\ttotal: 1.98s\tremaining: 623ms\n",
      "761:\tlearn: 0.1113040\ttotal: 1.99s\tremaining: 620ms\n",
      "762:\tlearn: 0.1111298\ttotal: 1.99s\tremaining: 618ms\n",
      "763:\tlearn: 0.1109842\ttotal: 1.99s\tremaining: 615ms\n",
      "764:\tlearn: 0.1108868\ttotal: 1.99s\tremaining: 612ms\n",
      "765:\tlearn: 0.1107614\ttotal: 1.99s\tremaining: 609ms\n",
      "766:\tlearn: 0.1106804\ttotal: 2s\tremaining: 606ms\n",
      "767:\tlearn: 0.1105682\ttotal: 2s\tremaining: 603ms\n",
      "768:\tlearn: 0.1104531\ttotal: 2s\tremaining: 601ms\n",
      "769:\tlearn: 0.1104063\ttotal: 2s\tremaining: 598ms\n",
      "770:\tlearn: 0.1102289\ttotal: 2s\tremaining: 595ms\n",
      "771:\tlearn: 0.1099486\ttotal: 2s\tremaining: 592ms\n",
      "772:\tlearn: 0.1097664\ttotal: 2.01s\tremaining: 590ms\n",
      "773:\tlearn: 0.1096388\ttotal: 2.01s\tremaining: 587ms\n",
      "774:\tlearn: 0.1095239\ttotal: 2.01s\tremaining: 584ms\n",
      "775:\tlearn: 0.1093583\ttotal: 2.01s\tremaining: 581ms\n",
      "776:\tlearn: 0.1092116\ttotal: 2.01s\tremaining: 578ms\n",
      "777:\tlearn: 0.1090445\ttotal: 2.02s\tremaining: 575ms\n",
      "778:\tlearn: 0.1089622\ttotal: 2.02s\tremaining: 573ms\n",
      "779:\tlearn: 0.1088142\ttotal: 2.02s\tremaining: 570ms\n",
      "780:\tlearn: 0.1086445\ttotal: 2.02s\tremaining: 567ms\n",
      "781:\tlearn: 0.1085208\ttotal: 2.02s\tremaining: 564ms\n",
      "782:\tlearn: 0.1083562\ttotal: 2.02s\tremaining: 561ms\n",
      "783:\tlearn: 0.1082440\ttotal: 2.03s\tremaining: 559ms\n",
      "784:\tlearn: 0.1080903\ttotal: 2.03s\tremaining: 556ms\n",
      "785:\tlearn: 0.1079435\ttotal: 2.03s\tremaining: 553ms\n",
      "786:\tlearn: 0.1078422\ttotal: 2.03s\tremaining: 550ms\n",
      "787:\tlearn: 0.1077656\ttotal: 2.04s\tremaining: 548ms\n",
      "788:\tlearn: 0.1076325\ttotal: 2.04s\tremaining: 545ms\n",
      "789:\tlearn: 0.1075442\ttotal: 2.04s\tremaining: 542ms\n",
      "790:\tlearn: 0.1073492\ttotal: 2.04s\tremaining: 539ms\n",
      "791:\tlearn: 0.1072120\ttotal: 2.04s\tremaining: 536ms\n",
      "792:\tlearn: 0.1071369\ttotal: 2.04s\tremaining: 533ms\n",
      "793:\tlearn: 0.1070102\ttotal: 2.04s\tremaining: 531ms\n",
      "794:\tlearn: 0.1068243\ttotal: 2.05s\tremaining: 528ms\n",
      "795:\tlearn: 0.1067052\ttotal: 2.05s\tremaining: 525ms\n",
      "796:\tlearn: 0.1065101\ttotal: 2.05s\tremaining: 522ms\n",
      "797:\tlearn: 0.1063680\ttotal: 2.05s\tremaining: 520ms\n",
      "798:\tlearn: 0.1062384\ttotal: 2.05s\tremaining: 517ms\n",
      "799:\tlearn: 0.1060471\ttotal: 2.06s\tremaining: 514ms\n",
      "800:\tlearn: 0.1059264\ttotal: 2.06s\tremaining: 511ms\n",
      "801:\tlearn: 0.1058218\ttotal: 2.06s\tremaining: 508ms\n",
      "802:\tlearn: 0.1057203\ttotal: 2.06s\tremaining: 506ms\n",
      "803:\tlearn: 0.1055890\ttotal: 2.06s\tremaining: 503ms\n",
      "804:\tlearn: 0.1054334\ttotal: 2.06s\tremaining: 500ms\n",
      "805:\tlearn: 0.1053538\ttotal: 2.07s\tremaining: 498ms\n",
      "806:\tlearn: 0.1052622\ttotal: 2.07s\tremaining: 495ms\n",
      "807:\tlearn: 0.1051538\ttotal: 2.07s\tremaining: 492ms\n",
      "808:\tlearn: 0.1050104\ttotal: 2.07s\tremaining: 489ms\n",
      "809:\tlearn: 0.1049037\ttotal: 2.07s\tremaining: 487ms\n",
      "810:\tlearn: 0.1047630\ttotal: 2.08s\tremaining: 484ms\n",
      "811:\tlearn: 0.1045717\ttotal: 2.08s\tremaining: 481ms\n",
      "812:\tlearn: 0.1044230\ttotal: 2.08s\tremaining: 478ms\n",
      "813:\tlearn: 0.1043605\ttotal: 2.08s\tremaining: 476ms\n",
      "814:\tlearn: 0.1042876\ttotal: 2.08s\tremaining: 473ms\n",
      "815:\tlearn: 0.1041194\ttotal: 2.08s\tremaining: 470ms\n",
      "816:\tlearn: 0.1039744\ttotal: 2.08s\tremaining: 467ms\n",
      "817:\tlearn: 0.1038843\ttotal: 2.09s\tremaining: 464ms\n",
      "818:\tlearn: 0.1037019\ttotal: 2.09s\tremaining: 462ms\n",
      "819:\tlearn: 0.1035468\ttotal: 2.09s\tremaining: 459ms\n",
      "820:\tlearn: 0.1034413\ttotal: 2.09s\tremaining: 456ms\n",
      "821:\tlearn: 0.1033318\ttotal: 2.09s\tremaining: 454ms\n",
      "822:\tlearn: 0.1030967\ttotal: 2.1s\tremaining: 451ms\n",
      "823:\tlearn: 0.1029852\ttotal: 2.1s\tremaining: 448ms\n",
      "824:\tlearn: 0.1028832\ttotal: 2.1s\tremaining: 445ms\n",
      "825:\tlearn: 0.1027329\ttotal: 2.1s\tremaining: 443ms\n",
      "826:\tlearn: 0.1026459\ttotal: 2.1s\tremaining: 440ms\n",
      "827:\tlearn: 0.1025514\ttotal: 2.11s\tremaining: 438ms\n",
      "828:\tlearn: 0.1023929\ttotal: 2.11s\tremaining: 435ms\n",
      "829:\tlearn: 0.1022895\ttotal: 2.11s\tremaining: 432ms\n",
      "830:\tlearn: 0.1021217\ttotal: 2.11s\tremaining: 429ms\n",
      "831:\tlearn: 0.1019072\ttotal: 2.11s\tremaining: 427ms\n",
      "832:\tlearn: 0.1017681\ttotal: 2.12s\tremaining: 424ms\n",
      "833:\tlearn: 0.1015638\ttotal: 2.12s\tremaining: 421ms\n",
      "834:\tlearn: 0.1013751\ttotal: 2.12s\tremaining: 419ms\n",
      "835:\tlearn: 0.1013002\ttotal: 2.12s\tremaining: 416ms\n",
      "836:\tlearn: 0.1011883\ttotal: 2.12s\tremaining: 414ms\n",
      "837:\tlearn: 0.1010334\ttotal: 2.13s\tremaining: 411ms\n",
      "838:\tlearn: 0.1009593\ttotal: 2.13s\tremaining: 409ms\n",
      "839:\tlearn: 0.1008187\ttotal: 2.13s\tremaining: 406ms\n",
      "840:\tlearn: 0.1007194\ttotal: 2.13s\tremaining: 404ms\n",
      "841:\tlearn: 0.1006270\ttotal: 2.14s\tremaining: 401ms\n",
      "842:\tlearn: 0.1004756\ttotal: 2.14s\tremaining: 398ms\n",
      "843:\tlearn: 0.1003707\ttotal: 2.14s\tremaining: 396ms\n",
      "844:\tlearn: 0.1003099\ttotal: 2.14s\tremaining: 393ms\n",
      "845:\tlearn: 0.1001442\ttotal: 2.14s\tremaining: 390ms\n",
      "846:\tlearn: 0.1000183\ttotal: 2.15s\tremaining: 388ms\n",
      "847:\tlearn: 0.0999203\ttotal: 2.15s\tremaining: 385ms\n",
      "848:\tlearn: 0.0998104\ttotal: 2.15s\tremaining: 382ms\n",
      "849:\tlearn: 0.0996417\ttotal: 2.15s\tremaining: 380ms\n",
      "850:\tlearn: 0.0995463\ttotal: 2.15s\tremaining: 377ms\n",
      "851:\tlearn: 0.0994872\ttotal: 2.15s\tremaining: 374ms\n",
      "852:\tlearn: 0.0993420\ttotal: 2.16s\tremaining: 372ms\n",
      "853:\tlearn: 0.0992862\ttotal: 2.16s\tremaining: 369ms\n",
      "854:\tlearn: 0.0991372\ttotal: 2.16s\tremaining: 366ms\n",
      "855:\tlearn: 0.0990176\ttotal: 2.16s\tremaining: 364ms\n",
      "856:\tlearn: 0.0989336\ttotal: 2.16s\tremaining: 361ms\n",
      "857:\tlearn: 0.0988096\ttotal: 2.17s\tremaining: 358ms\n",
      "858:\tlearn: 0.0987104\ttotal: 2.17s\tremaining: 356ms\n",
      "859:\tlearn: 0.0985949\ttotal: 2.17s\tremaining: 353ms\n",
      "860:\tlearn: 0.0984638\ttotal: 2.17s\tremaining: 351ms\n",
      "861:\tlearn: 0.0983459\ttotal: 2.17s\tremaining: 348ms\n",
      "862:\tlearn: 0.0982884\ttotal: 2.18s\tremaining: 346ms\n",
      "863:\tlearn: 0.0981192\ttotal: 2.18s\tremaining: 343ms\n",
      "864:\tlearn: 0.0979930\ttotal: 2.18s\tremaining: 341ms\n",
      "865:\tlearn: 0.0978778\ttotal: 2.19s\tremaining: 338ms\n",
      "866:\tlearn: 0.0977347\ttotal: 2.19s\tremaining: 336ms\n",
      "867:\tlearn: 0.0976276\ttotal: 2.19s\tremaining: 333ms\n",
      "868:\tlearn: 0.0975619\ttotal: 2.19s\tremaining: 331ms\n",
      "869:\tlearn: 0.0974697\ttotal: 2.2s\tremaining: 328ms\n",
      "870:\tlearn: 0.0973350\ttotal: 2.2s\tremaining: 326ms\n",
      "871:\tlearn: 0.0971904\ttotal: 2.2s\tremaining: 323ms\n",
      "872:\tlearn: 0.0970610\ttotal: 2.21s\tremaining: 321ms\n",
      "873:\tlearn: 0.0968455\ttotal: 2.21s\tremaining: 319ms\n",
      "874:\tlearn: 0.0967735\ttotal: 2.21s\tremaining: 316ms\n",
      "875:\tlearn: 0.0966303\ttotal: 2.21s\tremaining: 314ms\n",
      "876:\tlearn: 0.0965252\ttotal: 2.22s\tremaining: 311ms\n",
      "877:\tlearn: 0.0963695\ttotal: 2.22s\tremaining: 309ms\n",
      "878:\tlearn: 0.0962365\ttotal: 2.23s\tremaining: 307ms\n",
      "879:\tlearn: 0.0960900\ttotal: 2.23s\tremaining: 304ms\n",
      "880:\tlearn: 0.0959699\ttotal: 2.23s\tremaining: 302ms\n",
      "881:\tlearn: 0.0958478\ttotal: 2.24s\tremaining: 299ms\n",
      "882:\tlearn: 0.0956915\ttotal: 2.24s\tremaining: 297ms\n",
      "883:\tlearn: 0.0956298\ttotal: 2.24s\tremaining: 295ms\n",
      "884:\tlearn: 0.0954161\ttotal: 2.25s\tremaining: 292ms\n",
      "885:\tlearn: 0.0952533\ttotal: 2.25s\tremaining: 290ms\n",
      "886:\tlearn: 0.0951105\ttotal: 2.25s\tremaining: 287ms\n",
      "887:\tlearn: 0.0950326\ttotal: 2.26s\tremaining: 285ms\n",
      "888:\tlearn: 0.0948915\ttotal: 2.26s\tremaining: 283ms\n",
      "889:\tlearn: 0.0947395\ttotal: 2.27s\tremaining: 280ms\n",
      "890:\tlearn: 0.0946668\ttotal: 2.27s\tremaining: 278ms\n",
      "891:\tlearn: 0.0945477\ttotal: 2.27s\tremaining: 275ms\n",
      "892:\tlearn: 0.0944543\ttotal: 2.28s\tremaining: 273ms\n",
      "893:\tlearn: 0.0943736\ttotal: 2.28s\tremaining: 270ms\n",
      "894:\tlearn: 0.0942962\ttotal: 2.29s\tremaining: 268ms\n",
      "895:\tlearn: 0.0942269\ttotal: 2.29s\tremaining: 266ms\n",
      "896:\tlearn: 0.0941346\ttotal: 2.29s\tremaining: 263ms\n",
      "897:\tlearn: 0.0940625\ttotal: 2.29s\tremaining: 261ms\n",
      "898:\tlearn: 0.0939016\ttotal: 2.3s\tremaining: 258ms\n",
      "899:\tlearn: 0.0936975\ttotal: 2.3s\tremaining: 256ms\n",
      "900:\tlearn: 0.0935887\ttotal: 2.3s\tremaining: 253ms\n",
      "901:\tlearn: 0.0934890\ttotal: 2.31s\tremaining: 251ms\n",
      "902:\tlearn: 0.0933746\ttotal: 2.31s\tremaining: 248ms\n",
      "903:\tlearn: 0.0932334\ttotal: 2.31s\tremaining: 246ms\n",
      "904:\tlearn: 0.0931397\ttotal: 2.32s\tremaining: 243ms\n",
      "905:\tlearn: 0.0930393\ttotal: 2.32s\tremaining: 241ms\n",
      "906:\tlearn: 0.0929179\ttotal: 2.33s\tremaining: 238ms\n",
      "907:\tlearn: 0.0927652\ttotal: 2.33s\tremaining: 236ms\n",
      "908:\tlearn: 0.0926238\ttotal: 2.33s\tremaining: 233ms\n",
      "909:\tlearn: 0.0924731\ttotal: 2.33s\tremaining: 231ms\n",
      "910:\tlearn: 0.0923743\ttotal: 2.33s\tremaining: 228ms\n",
      "911:\tlearn: 0.0922577\ttotal: 2.34s\tremaining: 225ms\n",
      "912:\tlearn: 0.0921468\ttotal: 2.34s\tremaining: 223ms\n",
      "913:\tlearn: 0.0920008\ttotal: 2.34s\tremaining: 220ms\n",
      "914:\tlearn: 0.0919114\ttotal: 2.34s\tremaining: 218ms\n",
      "915:\tlearn: 0.0917852\ttotal: 2.35s\tremaining: 215ms\n",
      "916:\tlearn: 0.0917165\ttotal: 2.35s\tremaining: 213ms\n",
      "917:\tlearn: 0.0915771\ttotal: 2.35s\tremaining: 210ms\n",
      "918:\tlearn: 0.0914728\ttotal: 2.35s\tremaining: 208ms\n",
      "919:\tlearn: 0.0912591\ttotal: 2.36s\tremaining: 205ms\n",
      "920:\tlearn: 0.0911798\ttotal: 2.36s\tremaining: 202ms\n",
      "921:\tlearn: 0.0910107\ttotal: 2.36s\tremaining: 200ms\n",
      "922:\tlearn: 0.0909326\ttotal: 2.36s\tremaining: 197ms\n",
      "923:\tlearn: 0.0908175\ttotal: 2.37s\tremaining: 195ms\n",
      "924:\tlearn: 0.0907315\ttotal: 2.37s\tremaining: 192ms\n",
      "925:\tlearn: 0.0906291\ttotal: 2.37s\tremaining: 189ms\n",
      "926:\tlearn: 0.0905389\ttotal: 2.37s\tremaining: 187ms\n",
      "927:\tlearn: 0.0903829\ttotal: 2.37s\tremaining: 184ms\n",
      "928:\tlearn: 0.0902333\ttotal: 2.38s\tremaining: 182ms\n",
      "929:\tlearn: 0.0901191\ttotal: 2.38s\tremaining: 179ms\n",
      "930:\tlearn: 0.0900395\ttotal: 2.38s\tremaining: 177ms\n",
      "931:\tlearn: 0.0899286\ttotal: 2.39s\tremaining: 174ms\n",
      "932:\tlearn: 0.0898121\ttotal: 2.39s\tremaining: 171ms\n",
      "933:\tlearn: 0.0896895\ttotal: 2.39s\tremaining: 169ms\n",
      "934:\tlearn: 0.0896081\ttotal: 2.39s\tremaining: 166ms\n",
      "935:\tlearn: 0.0894975\ttotal: 2.4s\tremaining: 164ms\n",
      "936:\tlearn: 0.0894145\ttotal: 2.4s\tremaining: 161ms\n",
      "937:\tlearn: 0.0893264\ttotal: 2.4s\tremaining: 159ms\n",
      "938:\tlearn: 0.0892627\ttotal: 2.4s\tremaining: 156ms\n",
      "939:\tlearn: 0.0891167\ttotal: 2.4s\tremaining: 154ms\n",
      "940:\tlearn: 0.0890747\ttotal: 2.41s\tremaining: 151ms\n",
      "941:\tlearn: 0.0889992\ttotal: 2.41s\tremaining: 148ms\n",
      "942:\tlearn: 0.0888996\ttotal: 2.41s\tremaining: 146ms\n",
      "943:\tlearn: 0.0887818\ttotal: 2.41s\tremaining: 143ms\n",
      "944:\tlearn: 0.0887308\ttotal: 2.42s\tremaining: 141ms\n",
      "945:\tlearn: 0.0886471\ttotal: 2.42s\tremaining: 138ms\n",
      "946:\tlearn: 0.0884915\ttotal: 2.42s\tremaining: 135ms\n",
      "947:\tlearn: 0.0883839\ttotal: 2.42s\tremaining: 133ms\n",
      "948:\tlearn: 0.0882864\ttotal: 2.42s\tremaining: 130ms\n",
      "949:\tlearn: 0.0882134\ttotal: 2.43s\tremaining: 128ms\n",
      "950:\tlearn: 0.0881054\ttotal: 2.43s\tremaining: 125ms\n",
      "951:\tlearn: 0.0879896\ttotal: 2.43s\tremaining: 123ms\n",
      "952:\tlearn: 0.0879379\ttotal: 2.43s\tremaining: 120ms\n"
     ]
    },
    {
     "name": "stdout",
     "output_type": "stream",
     "text": [
      "953:\tlearn: 0.0878740\ttotal: 2.44s\tremaining: 118ms\n",
      "954:\tlearn: 0.0877672\ttotal: 2.44s\tremaining: 115ms\n",
      "955:\tlearn: 0.0876953\ttotal: 2.44s\tremaining: 113ms\n",
      "956:\tlearn: 0.0876308\ttotal: 2.45s\tremaining: 110ms\n",
      "957:\tlearn: 0.0875880\ttotal: 2.45s\tremaining: 107ms\n",
      "958:\tlearn: 0.0875172\ttotal: 2.45s\tremaining: 105ms\n",
      "959:\tlearn: 0.0874267\ttotal: 2.45s\tremaining: 102ms\n",
      "960:\tlearn: 0.0873645\ttotal: 2.46s\tremaining: 99.7ms\n",
      "961:\tlearn: 0.0872647\ttotal: 2.46s\tremaining: 97.2ms\n",
      "962:\tlearn: 0.0871269\ttotal: 2.46s\tremaining: 94.6ms\n",
      "963:\tlearn: 0.0870366\ttotal: 2.46s\tremaining: 92.1ms\n",
      "964:\tlearn: 0.0869996\ttotal: 2.47s\tremaining: 89.6ms\n",
      "965:\tlearn: 0.0869306\ttotal: 2.47s\tremaining: 87.1ms\n",
      "966:\tlearn: 0.0868003\ttotal: 2.48s\tremaining: 84.5ms\n",
      "967:\tlearn: 0.0867110\ttotal: 2.48s\tremaining: 82ms\n",
      "968:\tlearn: 0.0866511\ttotal: 2.48s\tremaining: 79.4ms\n",
      "969:\tlearn: 0.0865382\ttotal: 2.48s\tremaining: 76.8ms\n",
      "970:\tlearn: 0.0864264\ttotal: 2.49s\tremaining: 74.3ms\n",
      "971:\tlearn: 0.0863484\ttotal: 2.49s\tremaining: 71.7ms\n",
      "972:\tlearn: 0.0861988\ttotal: 2.49s\tremaining: 69.1ms\n",
      "973:\tlearn: 0.0861013\ttotal: 2.49s\tremaining: 66.5ms\n",
      "974:\tlearn: 0.0860122\ttotal: 2.49s\tremaining: 63.9ms\n",
      "975:\tlearn: 0.0859300\ttotal: 2.5s\tremaining: 61.4ms\n",
      "976:\tlearn: 0.0858804\ttotal: 2.5s\tremaining: 58.8ms\n",
      "977:\tlearn: 0.0858140\ttotal: 2.5s\tremaining: 56.2ms\n",
      "978:\tlearn: 0.0857456\ttotal: 2.5s\tremaining: 53.7ms\n",
      "979:\tlearn: 0.0856600\ttotal: 2.5s\tremaining: 51.1ms\n",
      "980:\tlearn: 0.0855756\ttotal: 2.5s\tremaining: 48.5ms\n",
      "981:\tlearn: 0.0854691\ttotal: 2.51s\tremaining: 45.9ms\n",
      "982:\tlearn: 0.0853445\ttotal: 2.51s\tremaining: 43.4ms\n",
      "983:\tlearn: 0.0852938\ttotal: 2.51s\tremaining: 40.8ms\n",
      "984:\tlearn: 0.0851617\ttotal: 2.51s\tremaining: 38.2ms\n",
      "985:\tlearn: 0.0850474\ttotal: 2.51s\tremaining: 35.7ms\n",
      "986:\tlearn: 0.0849180\ttotal: 2.52s\tremaining: 33.1ms\n",
      "987:\tlearn: 0.0848324\ttotal: 2.52s\tremaining: 30.6ms\n",
      "988:\tlearn: 0.0847623\ttotal: 2.52s\tremaining: 28ms\n",
      "989:\tlearn: 0.0846280\ttotal: 2.52s\tremaining: 25.5ms\n",
      "990:\tlearn: 0.0845768\ttotal: 2.52s\tremaining: 22.9ms\n",
      "991:\tlearn: 0.0844624\ttotal: 2.52s\tremaining: 20.4ms\n",
      "992:\tlearn: 0.0844019\ttotal: 2.52s\tremaining: 17.8ms\n",
      "993:\tlearn: 0.0843022\ttotal: 2.53s\tremaining: 15.3ms\n",
      "994:\tlearn: 0.0842202\ttotal: 2.53s\tremaining: 12.7ms\n",
      "995:\tlearn: 0.0840953\ttotal: 2.53s\tremaining: 10.2ms\n",
      "996:\tlearn: 0.0839838\ttotal: 2.53s\tremaining: 7.62ms\n",
      "997:\tlearn: 0.0838813\ttotal: 2.53s\tremaining: 5.08ms\n",
      "998:\tlearn: 0.0837865\ttotal: 2.54s\tremaining: 2.54ms\n",
      "999:\tlearn: 0.0837105\ttotal: 2.54s\tremaining: 0us\n"
     ]
    }
   ],
   "source": [
    "# Machine\n",
    "cbc = CatBoostClassifier()\n",
    "\n",
    "model2 = cbc.fit(X,y)\n",
    "ypred = model2.predict(X_test)"
   ]
  },
  {
   "cell_type": "code",
   "execution_count": 49,
   "id": "7d7ab565",
   "metadata": {},
   "outputs": [
    {
     "data": {
      "text/plain": [
       "<AxesSubplot:>"
      ]
     },
     "execution_count": 49,
     "metadata": {},
     "output_type": "execute_result"
    },
    {
     "data": {
      "image/png": "[encoded data removed]",
      "text/plain": [
       "<Figure size 432x288 with 2 Axes>"
      ]
     },
     "metadata": {
      "needs_background": "light"
     },
     "output_type": "display_data"
    }
   ],
   "source": [
    "# Confusion matrix\n",
    "cm = confusion_matrix(y_test,ypred)\n",
    "sns.heatmap(cm,fmt='.1f',annot=True)"
   ]
  },
  {
   "cell_type": "code",
   "execution_count": 50,
   "id": "1010e0c5",
   "metadata": {},
   "outputs": [
    {
     "data": {
      "text/plain": [
       "1.0"
      ]
     },
     "execution_count": 50,
     "metadata": {},
     "output_type": "execute_result"
    }
   ],
   "source": [
    "# Accurary score\n",
    "accuracy_score(y_test,ypred)"
   ]
  },
  {
   "cell_type": "code",
   "execution_count": 51,
   "id": "ffe9b6b2",
   "metadata": {},
   "outputs": [
    {
     "name": "stdout",
     "output_type": "stream",
     "text": [
      "              precision    recall  f1-score   support\n",
      "\n",
      "           H       1.00      1.00      1.00        55\n",
      "           L       1.00      1.00      1.00        33\n",
      "           M       1.00      1.00      1.00        56\n",
      "\n",
      "    accuracy                           1.00       144\n",
      "   macro avg       1.00      1.00      1.00       144\n",
      "weighted avg       1.00      1.00      1.00       144\n",
      "\n"
     ]
    }
   ],
   "source": [
    "# Classification Report\n",
    "print(classification_report(y_test,ypred))"
   ]
  },
  {
   "cell_type": "markdown",
   "id": "89b364d9",
   "metadata": {},
   "source": [
    "**Inference:**\n",
    "1. Without making any changes in data, CATBOOST is able to classify all the classes correctly.\n",
    "2. CATBOOST is a powerful algorithm."
   ]
  },
  {
   "cell_type": "code",
   "execution_count": null,
   "id": "af68cb16",
   "metadata": {},
   "outputs": [],
   "source": []
  }
 ],
 "metadata": {
  "kernelspec": {
   "display_name": "Python 3 (ipykernel)",
   "language": "python",
   "name": "python3"
  },
  "language_info": {
   "codemirror_mode": {
    "name": "ipython",
    "version": 3
   },
   "file_extension": ".py",
   "mimetype": "text/x-python",
   "name": "python",
   "nbconvert_exporter": "python",
   "pygments_lexer": "ipython3",
   "version": "3.8.11"
  }
 },
 "nbformat": 4,
 "nbformat_minor": 5
}
